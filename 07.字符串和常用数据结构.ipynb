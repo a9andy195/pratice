{
 "cells": [
  {
   "cell_type": "code",
   "execution_count": null,
   "metadata": {},
   "outputs": [],
   "source": []
  },
  {
   "cell_type": "code",
   "execution_count": 16,
   "metadata": {},
   "outputs": [],
   "source": [
    "str1 = 'hello, world!'"
   ]
  },
  {
   "cell_type": "code",
   "execution_count": 17,
   "metadata": {},
   "outputs": [
    {
     "name": "stdout",
     "output_type": "stream",
     "text": [
      "13\n"
     ]
    }
   ],
   "source": [
    "print(len(str1))"
   ]
  },
  {
   "cell_type": "code",
   "execution_count": 19,
   "metadata": {},
   "outputs": [
    {
     "name": "stdout",
     "output_type": "stream",
     "text": [
      "Hello, world!\n"
     ]
    }
   ],
   "source": [
    "print(str1.capitalize())"
   ]
  },
  {
   "cell_type": "code",
   "execution_count": 20,
   "metadata": {},
   "outputs": [
    {
     "name": "stdout",
     "output_type": "stream",
     "text": [
      "HELLO, WORLD!\n"
     ]
    }
   ],
   "source": [
    "print(str1.upper())"
   ]
  },
  {
   "cell_type": "code",
   "execution_count": 27,
   "metadata": {},
   "outputs": [
    {
     "name": "stdout",
     "output_type": "stream",
     "text": [
      "5\n"
     ]
    }
   ],
   "source": [
    "print(str1.find(','))"
   ]
  },
  {
   "cell_type": "code",
   "execution_count": 32,
   "metadata": {},
   "outputs": [
    {
     "name": "stdout",
     "output_type": "stream",
     "text": [
      "False\n",
      "True\n",
      "True\n"
     ]
    }
   ],
   "source": [
    "print(str1.startswith('ll'))\n",
    "print(str1.startswith('hel'))\n",
    "print(str1.endswith('rld!'))"
   ]
  },
  {
   "cell_type": "code",
   "execution_count": 35,
   "metadata": {},
   "outputs": [
    {
     "name": "stdout",
     "output_type": "stream",
     "text": [
      "***hello, world!****\n",
      "                                     hello, world!\n"
     ]
    }
   ],
   "source": [
    "# 將字符串以指定的寬度居中並在兩側填充指定的字符\n",
    "print(str1.center(20, '*'))\n",
    "# 將字符串以指定的寬度靠右放置左側填充指定的字符\n",
    "print(str1.rjust(50, ' '))"
   ]
  },
  {
   "cell_type": "code",
   "execution_count": 1,
   "metadata": {},
   "outputs": [
    {
     "name": "stdout",
     "output_type": "stream",
     "text": [
      "13\n",
      "Hello, world!\n",
      "HELLO, WORLD!\n",
      "8\n",
      "-1\n",
      "False\n",
      "True\n",
      "True\n",
      "******************hello, world!*******************\n",
      "                                     hello, world!\n",
      "c\n",
      "c12\n",
      "c123456\n",
      "c246\n",
      "ac246\n",
      "654321cba\n",
      "45\n",
      "False\n",
      "False\n",
      "True\n",
      "  jackfrued@126.com \n",
      "jackfrued@126.com\n"
     ]
    }
   ],
   "source": [
    "def main():\n",
    "    str1 = 'hello, world!'\n",
    "    # 通過len函數計算字符串的長度\n",
    "    print(len(str1))  # 13\n",
    "    # 獲得字符串首字母大寫的拷貝\n",
    "    print(str1.capitalize())  # Hello, world!\n",
    "    # 獲得字符串變大寫後的拷貝\n",
    "    print(str1.upper())  # HELLO, WORLD!\n",
    "    # 從字符串中查找子串所在位置\n",
    "    print(str1.find('or'))  # 8\n",
    "    print(str1.find('shit'))  # -1\n",
    "    # 與find類似但找不到子串時會引發異常\n",
    "    # print(str1.index('or'))\n",
    "    # print(str1.index('shit'))\n",
    "    # 檢查字符串是否以指定的字符串開頭\n",
    "    print(str1.startswith('He'))  # False\n",
    "    print(str1.startswith('hel'))  # True\n",
    "    # 檢查字符串是否以指定的字符串結尾\n",
    "    print(str1.endswith('!'))  # True\n",
    "    # 將字符串以指定的寬度居中並在兩側填充指定的字符\n",
    "    print(str1.center(50, '*'))\n",
    "    # 將字符串以指定的寬度靠右放置左側填充指定的字符\n",
    "    print(str1.rjust(50, ' '))\n",
    "    str2 = 'abc123456'\n",
    "    # 從字符串中取出指定位置的字符(下標運算)\n",
    "    print(str2[2])  # c\n",
    "    # 字符串切片(從指定的開始索引到指定的結束索引)\n",
    "    print(str2[2:5])  # c12\n",
    "    print(str2[2:])  # c123456\n",
    "    print(str2[2::2])  # c246\n",
    "    print(str2[::2])  # ac246\n",
    "    print(str2[::-1])  # 654321cba\n",
    "    print(str2[-3:-1])  # 45\n",
    "    # 檢查字符串是否由數字構成\n",
    "    print(str2.isdigit())  # False\n",
    "    # 檢查字符串是否以字母構成\n",
    "    print(str2.isalpha())  # False\n",
    "    # 檢查字符串是否以數字和字母構成\n",
    "    print(str2.isalnum())  # True\n",
    "    str3 = '  jackfrued@126.com '\n",
    "    print(str3)\n",
    "    # 獲得字符串修剪左右兩側空格的拷貝\n",
    "    print(str3.strip())\n",
    "\n",
    "\n",
    "if __name__ == '__main__':\n",
    "    main()"
   ]
  },
  {
   "cell_type": "code",
   "execution_count": 1,
   "metadata": {},
   "outputs": [
    {
     "name": "stdout",
     "output_type": "stream",
     "text": [
      "[1, 3, 5, 7, 100]\n",
      "['hello', 'hello', 'hello', 'hello', 'hello']\n",
      "5\n",
      "1\n",
      "100\n",
      "100\n",
      "5\n",
      "[1, 3, 300, 7, 100]\n",
      "[1, 400, 3, 300, 7, 100, 200, 1000, 2000]\n",
      "9\n",
      "[400, 300, 7, 100, 200, 1000, 2000]\n",
      "[]\n"
     ]
    }
   ],
   "source": [
    "def main():\n",
    "    list1 = [1, 3, 5, 7, 100]\n",
    "    print(list1)\n",
    "    list2 = ['hello'] * 5\n",
    "    print(list2)\n",
    "    # 計算列表長度(元素個數)\n",
    "    print(len(list1))\n",
    "    # 下標(索引)運算\n",
    "    print(list1[0])\n",
    "    print(list1[4])\n",
    "    # print(list1[5])  # IndexError: list index out of range\n",
    "    print(list1[-1])\n",
    "    print(list1[-3])\n",
    "    list1[2] = 300\n",
    "    print(list1)\n",
    "    # 添加元素\n",
    "    list1.append(200)\n",
    "    list1.insert(1, 400)\n",
    "    list1 += [1000, 2000]\n",
    "    print(list1)\n",
    "    print(len(list1))\n",
    "    # 刪除元素\n",
    "    list1.remove(3)\n",
    "    if 1234 in list1:\n",
    "        list1.remove(1234)\n",
    "    del list1[0]\n",
    "    print(list1)\n",
    "    # 清空列表元素\n",
    "    list1.clear()\n",
    "    print(list1)\n",
    "\n",
    "\n",
    "if __name__ == '__main__':\n",
    "    main()"
   ]
  },
  {
   "cell_type": "code",
   "execution_count": 7,
   "metadata": {},
   "outputs": [
    {
     "name": "stdout",
     "output_type": "stream",
     "text": [
      "[1, 3, 5, 7, 100, 1000, 2000]\n"
     ]
    }
   ],
   "source": [
    "list1 = [1, 3, 5, 7, 100]\n",
    "\n",
    "list1 += [1000, 2000]\n",
    "print(list1)"
   ]
  },
  {
   "cell_type": "code",
   "execution_count": 8,
   "metadata": {},
   "outputs": [
    {
     "name": "stdout",
     "output_type": "stream",
     "text": [
      "Grape Apple Strawberry Waxberry Pitaya Pear Mango \n",
      "['apple', 'strawberry', 'waxberry']\n",
      "['grape', 'apple', 'strawberry', 'waxberry', 'pitaya', 'pear', 'mango']\n",
      "['pitaya', 'pear']\n",
      "['mango', 'pear', 'pitaya', 'waxberry', 'strawberry', 'apple', 'grape']\n"
     ]
    }
   ],
   "source": [
    "def main():\n",
    "    fruits = ['grape', 'apple', 'strawberry', 'waxberry']\n",
    "    fruits += ['pitaya', 'pear', 'mango']\n",
    "    # 循環遍歷列表元素\n",
    "    for fruit in fruits:\n",
    "        print(fruit.title(), end=' ')\n",
    "    print()\n",
    "    # 列表切片\n",
    "    fruits2 = fruits[1:4]\n",
    "    print(fruits2)\n",
    "    # fruit3 = fruits  # 沒有複製列表只創建了新的引用\n",
    "    # 可以通過完整切片操作來複制列表\n",
    "    fruits3 = fruits[:]\n",
    "    print(fruits3)\n",
    "    fruits4 = fruits[-3:-1]\n",
    "    print(fruits4)\n",
    "    # 可以通過反向切片操作來獲得倒轉後的列表的拷貝\n",
    "    fruits5 = fruits[::-1]\n",
    "    print(fruits5)\n",
    "\n",
    "\n",
    "if __name__ == '__main__':\n",
    "    main()"
   ]
  },
  {
   "cell_type": "code",
   "execution_count": 13,
   "metadata": {},
   "outputs": [
    {
     "name": "stdout",
     "output_type": "stream",
     "text": [
      "['grape', 'apple', 'strawberry', 'waxberry', 'pitaya', 'pear', 'mango']\n",
      "Grape Apple Strawberry Waxberry Pitaya Pear Mango \n"
     ]
    }
   ],
   "source": [
    "fruits = ['grape', 'apple', 'strawberry', 'waxberry']\n",
    "fruits += ['pitaya', 'pear', 'mango']\n",
    "print(fruits)\n",
    "    # 循環遍歷列表元素\n",
    "for fruit in fruits:\n",
    "    print(fruit.title(), end=' ')\n",
    "print()"
   ]
  },
  {
   "cell_type": "code",
   "execution_count": 14,
   "metadata": {},
   "outputs": [
    {
     "name": "stdout",
     "output_type": "stream",
     "text": [
      "['apple', 'strawberry', 'waxberry']\n"
     ]
    }
   ],
   "source": [
    "fruits2 = fruits[1:4]\n",
    "print(fruits2)"
   ]
  },
  {
   "cell_type": "code",
   "execution_count": 31,
   "metadata": {},
   "outputs": [
    {
     "name": "stdout",
     "output_type": "stream",
     "text": [
      "['grape', 'apple', 'strawberry', 'waxberry', 'pitaya', 'pear', 'mango']\n",
      "['strawberry', 'waxberry', 'pitaya', 'pear']\n"
     ]
    }
   ],
   "source": [
    "fruits3 = fruits[:]\n",
    "print(fruits3)\n",
    "fruits4 = fruits[-5:-1]\n",
    "print(fruits4)"
   ]
  },
  {
   "cell_type": "code",
   "execution_count": 32,
   "metadata": {},
   "outputs": [
    {
     "name": "stdout",
     "output_type": "stream",
     "text": [
      "['mango', 'pear', 'pitaya', 'waxberry', 'strawberry', 'apple', 'grape']\n"
     ]
    }
   ],
   "source": [
    "fruits5 = fruits[::-1]\n",
    "print(fruits5)"
   ]
  },
  {
   "cell_type": "code",
   "execution_count": 35,
   "metadata": {},
   "outputs": [
    {
     "name": "stdout",
     "output_type": "stream",
     "text": [
      "['orange', 'apple', 'zoo', 'internationalization', 'blueberry']\n",
      "['apple', 'blueberry', 'internationalization', 'orange', 'zoo']\n",
      "['zoo', 'orange', 'internationalization', 'blueberry', 'apple']\n",
      "['zoo', 'apple', 'orange', 'blueberry', 'internationalization']\n",
      "['zoo', 'orange', 'internationalization', 'blueberry', 'apple']\n"
     ]
    }
   ],
   "source": [
    "def main():\n",
    "    list1 = ['orange', 'apple', 'zoo', 'internationalization', 'blueberry']\n",
    "    list2 = sorted(list1)\n",
    "    # sorted函數返回列表排序後的拷貝不會修改傳入的列表\n",
    "    # 函數的設計就應該像sorted函數一樣儘可能不產生副作用\n",
    "    list3 = sorted(list1, reverse=True)\n",
    "    # 通過key關鍵字參數指定根據字符串長度進行排序而不是默認的字母表順序\n",
    "    list4 = sorted(list1, key=len)\n",
    "    print(list1)\n",
    "    print(list2)\n",
    "    print(list3)\n",
    "    print(list4)\n",
    "    # 給列表對象發出排序消息直接在列表對象上進行排序\n",
    "    list1.sort(reverse=True)\n",
    "    print(list1)\n",
    "\n",
    "\n",
    "if __name__ == '__main__':\n",
    "    main()"
   ]
  },
  {
   "cell_type": "code",
   "execution_count": 52,
   "metadata": {},
   "outputs": [
    {
     "name": "stdout",
     "output_type": "stream",
     "text": [
      "[1, 2, 3, 4, 5, 6, 7, 8, 9]\n",
      "['A1', 'A2', 'A3', 'B1', 'B2', 'B3', 'C1', 'C2', 'C3']\n",
      "920\n",
      "[1, 4, 9, 16, 25, 36, 49, 64, 81, 100, 121, 144, 169, 196, 225, 256, 289, 324, 361, 400, 441, 484, 529, 576, 625, 676, 729, 784, 841, 900, 961, 1024, 1089, 1156, 1225, 1296, 1369, 1444, 1521, 1600, 1681, 1764, 1849, 1936, 2025, 2116, 2209, 2304, 2401, 2500, 2601, 2704, 2809, 2916, 3025, 3136, 3249, 3364, 3481, 3600, 3721, 3844, 3969, 4096, 4225, 4356, 4489, 4624, 4761, 4900, 5041, 5184, 5329, 5476, 5625, 5776, 5929, 6084, 6241, 6400, 6561, 6724, 6889, 7056, 7225, 7396, 7569, 7744, 7921, 8100, 8281, 8464, 8649, 8836, 9025, 9216, 9409, 9604, 9801]\n",
      "128\n",
      "<generator object main.<locals>.<genexpr> at 0x111324bd0>\n",
      "1\n",
      "4\n",
      "9\n",
      "16\n",
      "25\n",
      "36\n",
      "49\n",
      "64\n",
      "81\n",
      "100\n",
      "121\n",
      "144\n",
      "169\n",
      "196\n",
      "225\n",
      "256\n",
      "289\n",
      "324\n",
      "361\n",
      "400\n",
      "441\n",
      "484\n",
      "529\n",
      "576\n",
      "625\n",
      "676\n",
      "729\n",
      "784\n",
      "841\n",
      "900\n",
      "961\n",
      "1024\n",
      "1089\n",
      "1156\n",
      "1225\n",
      "1296\n",
      "1369\n",
      "1444\n",
      "1521\n",
      "1600\n",
      "1681\n",
      "1764\n",
      "1849\n",
      "1936\n",
      "2025\n",
      "2116\n",
      "2209\n",
      "2304\n",
      "2401\n",
      "2500\n",
      "2601\n",
      "2704\n",
      "2809\n",
      "2916\n",
      "3025\n",
      "3136\n",
      "3249\n",
      "3364\n",
      "3481\n",
      "3600\n",
      "3721\n",
      "3844\n",
      "3969\n",
      "4096\n",
      "4225\n",
      "4356\n",
      "4489\n",
      "4624\n",
      "4761\n",
      "4900\n",
      "5041\n",
      "5184\n",
      "5329\n",
      "5476\n",
      "5625\n",
      "5776\n",
      "5929\n",
      "6084\n",
      "6241\n",
      "6400\n",
      "6561\n",
      "6724\n",
      "6889\n",
      "7056\n",
      "7225\n",
      "7396\n",
      "7569\n",
      "7744\n",
      "7921\n",
      "8100\n",
      "8281\n",
      "8464\n",
      "8649\n",
      "8836\n",
      "9025\n",
      "9216\n",
      "9409\n",
      "9604\n",
      "9801\n"
     ]
    }
   ],
   "source": [
    "import sys\n",
    "\n",
    "\n",
    "def main():\n",
    "    f = [x for x in range(1, 10)]\n",
    "    print(f)\n",
    "    f = [x + y for x in 'ABC' for y in '123']\n",
    "    print(f)\n",
    "    # 用列表的生成表達式語法創建列表容器\n",
    "    # 用這種語法創建列表之後元素已經準備就緒所以需要耗費較多的內存空間\n",
    "    f = [x ** 2 for x in range(1, 100)]\n",
    "    print(sys.getsizeof(f))  # 查看對象佔用內存的字節數\n",
    "    print(f)\n",
    "    # 請注意下面的代碼創建的不是一個列表而是一個生成器對象\n",
    "    # 通過生成器可以獲取到數據但它不佔用額外的空間存儲數據\n",
    "    # 每次需要數據的時候就通過內部的運算得到數據(需要花費額外的時間)\n",
    "    f = (x ** 2 for x in range(1, 100))\n",
    "    print(sys.getsizeof(f))  # 相比生成式生成器不佔用存儲數據的空間\n",
    "    print(f)\n",
    "   \n",
    "    for val in f:\n",
    "        print(val)\n",
    "        \n",
    "if __name__ == '__main__':\n",
    "    main()"
   ]
  },
  {
   "cell_type": "code",
   "execution_count": 65,
   "metadata": {},
   "outputs": [
    {
     "name": "stdout",
     "output_type": "stream",
     "text": [
      "1\n",
      "1\n",
      "2\n",
      "3\n",
      "5\n",
      "8\n",
      "13\n",
      "21\n",
      "34\n",
      "55\n",
      "89\n",
      "144\n",
      "233\n",
      "377\n",
      "610\n",
      "987\n",
      "1597\n",
      "2584\n",
      "4181\n",
      "6765\n"
     ]
    }
   ],
   "source": [
    "def fib(n):\n",
    "    a, b = 0, 1\n",
    "    for _ in range(n):\n",
    "        a, b = b, a + b\n",
    "        yield a\n",
    "\n",
    "\n",
    "def main():\n",
    "    for val in fib(20):\n",
    "        print(val)\n",
    "\n",
    "\n",
    "if __name__ == '__main__':\n",
    "    main()"
   ]
  },
  {
   "cell_type": "code",
   "execution_count": 66,
   "metadata": {},
   "outputs": [
    {
     "name": "stdout",
     "output_type": "stream",
     "text": [
      "('駱昊', 38, True, '四川成都')\n",
      "駱昊\n",
      "四川成都\n",
      "駱昊\n",
      "38\n",
      "True\n",
      "四川成都\n"
     ]
    }
   ],
   "source": [
    "t = ('駱昊', 38, True, '四川成都')\n",
    "print(t)\n",
    "# 獲取元組中的元素\n",
    "print(t[0])\n",
    "print(t[3])\n",
    "# 遍歷元組中的值\n",
    "for member in t:\n",
    "    print(member)"
   ]
  },
  {
   "cell_type": "code",
   "execution_count": 67,
   "metadata": {},
   "outputs": [
    {
     "name": "stdout",
     "output_type": "stream",
     "text": [
      "('王大錘', 20, True, '雲南昆明')\n",
      "['王大錘', 20, True, '雲南昆明']\n",
      "['李小龍', 25, True, '雲南昆明']\n",
      "('apple', 'banana', 'orange')\n"
     ]
    }
   ],
   "source": [
    "t = ('王大錘', 20, True, '雲南昆明')\n",
    "print(t)\n",
    "# 將元組轉換成列表\n",
    "person = list(t)\n",
    "print(person)\n",
    " # 列表是可以修改它的元素的\n",
    "person[0] = '李小龍'\n",
    "person[1] = 25\n",
    "print(person)\n",
    "# 將列表轉換成元組\n",
    "fruits_list = ['apple', 'banana', 'orange']\n",
    "fruits_tuple = tuple(fruits_list)\n",
    "print(fruits_tuple)"
   ]
  },
  {
   "cell_type": "code",
   "execution_count": null,
   "metadata": {},
   "outputs": [],
   "source": [
    "def main():\n",
    "    # 定義元組\n",
    "    t = ('駱昊', 38, True, '四川成都')\n",
    "    print(t)\n",
    "    # 獲取元組中的元素\n",
    "    print(t[0])\n",
    "    print(t[3])\n",
    "    # 遍歷元組中的值\n",
    "    for member in t:\n",
    "        print(member)\n",
    "    # 重新給元組賦值\n",
    "    # t[0] = '王大錘'  # TypeError\n",
    "    # 變量t重新引用了新的元組原來的元組將被垃圾回收\n",
    "    t = ('王大錘', 20, True, '雲南昆明')\n",
    "    print(t)\n",
    "    # 將元組轉換成列表\n",
    "    person = list(t)\n",
    "    print(person)\n",
    "    # 列表是可以修改它的元素的\n",
    "    person[0] = '李小龍'\n",
    "    person[1] = 25\n",
    "    print(person)\n",
    "    # 將列表轉換成元組\n",
    "    fruits_list = ['apple', 'banana', 'orange']\n",
    "    fruits_tuple = tuple(fruits_list)\n",
    "    print(fruits_tuple)\n",
    "\n",
    "`\n",
    "if __name__ == '__main__':\n",
    "    main()"
   ]
  },
  {
   "cell_type": "code",
   "execution_count": 72,
   "metadata": {},
   "outputs": [
    {
     "name": "stdout",
     "output_type": "stream",
     "text": [
      "{1, 2, 3}\n",
      "Length = 3\n",
      "{1, 2, 3, 4, 5, 6, 7, 8, 9}\n",
      "{1, 2, 3, 4, 5}\n",
      "{1, 2, 3, 4, 5, 6, 7, 8, 9, 11, 12}\n"
     ]
    }
   ],
   "source": [
    "set1 = {1, 2, 3, 3, 3, 2}\n",
    "print(set1)\n",
    "print('Length =', len(set1))\n",
    "set2 = set(range(1, 10))\n",
    "print(set2)\n",
    "set1.add(4)\n",
    "set1.add(5)\n",
    "set2.update([11, 12])\n",
    "print(set1)\n",
    "print(set2)\n",
    "\n"
   ]
  },
  {
   "cell_type": "code",
   "execution_count": 73,
   "metadata": {},
   "outputs": [
    {
     "name": "stdout",
     "output_type": "stream",
     "text": [
      "{1, 2, 3, 4, 6, 7, 8, 9, 11, 12}\n"
     ]
    }
   ],
   "source": [
    "set2.discard(5)\n",
    "print(set2)"
   ]
  },
  {
   "cell_type": "code",
   "execution_count": 71,
   "metadata": {},
   "outputs": [
    {
     "name": "stdout",
     "output_type": "stream",
     "text": [
      "{1, 2, 3, 6, 7, 8, 9, 11, 12}\n"
     ]
    }
   ],
   "source": [
    "if 4 in set2:\n",
    "    set2.remove(4)\n",
    "print(set2)"
   ]
  },
  {
   "cell_type": "code",
   "execution_count": 74,
   "metadata": {},
   "outputs": [
    {
     "name": "stdout",
     "output_type": "stream",
     "text": [
      "1 4 9 16 36 49 64 81 121 144 \n"
     ]
    }
   ],
   "source": [
    "for elem in set2:\n",
    "    print(elem ** 2, end=' ')\n",
    "print()"
   ]
  },
  {
   "cell_type": "code",
   "execution_count": 79,
   "metadata": {},
   "outputs": [
    {
     "name": "stdout",
     "output_type": "stream",
     "text": [
      "{1, 2, 3}\n",
      "1\n",
      "{2, 3}\n"
     ]
    }
   ],
   "source": [
    "set3 = set((1, 2, 3, 3, 2, 1))\n",
    "print(set3)\n",
    "print(set3.pop())\n",
    "print(set3)"
   ]
  },
  {
   "cell_type": "code",
   "execution_count": 82,
   "metadata": {},
   "outputs": [
    {
     "name": "stdout",
     "output_type": "stream",
     "text": [
      "1\n",
      "{2, 3}\n"
     ]
    },
    {
     "data": {
      "text/plain": [
       "{1, 2, 3, 4, 6, 7, 8, 9, 11, 12}"
      ]
     },
     "execution_count": 82,
     "metadata": {},
     "output_type": "execute_result"
    }
   ],
   "source": [
    "# 將元組轉換成集合\n",
    "set3 = set((1, 2, 3, 3, 2, 1))\n",
    "print(set3.pop())\n",
    "print(set3)\n",
    "set2"
   ]
  },
  {
   "cell_type": "code",
   "execution_count": 87,
   "metadata": {},
   "outputs": [
    {
     "name": "stdout",
     "output_type": "stream",
     "text": [
      "{1, 2, 3, 4, 5}\n",
      "{1, 2, 3, 4, 6, 7, 8, 9, 11, 12}\n",
      "{2, 3}\n"
     ]
    }
   ],
   "source": [
    "print(set1)\n",
    "print(set2)\n",
    "print(set3)"
   ]
  },
  {
   "cell_type": "code",
   "execution_count": 90,
   "metadata": {},
   "outputs": [
    {
     "name": "stdout",
     "output_type": "stream",
     "text": [
      "{1, 2, 3, 4}\n",
      "{5}\n",
      "{5, 6, 7, 8, 9, 11, 12}\n"
     ]
    }
   ],
   "source": [
    "print(set1 & set2)\n",
    "print(set1 - set2)\n",
    "print(set1 ^ set2)"
   ]
  },
  {
   "cell_type": "code",
   "execution_count": 83,
   "metadata": {},
   "outputs": [
    {
     "name": "stdout",
     "output_type": "stream",
     "text": [
      "{1, 2, 3, 4}\n"
     ]
    }
   ],
   "source": [
    "# 集合的交集、並集、差集、對稱差運算\n",
    "print(set1 & set2)"
   ]
  },
  {
   "cell_type": "code",
   "execution_count": 93,
   "metadata": {},
   "outputs": [
    {
     "name": "stdout",
     "output_type": "stream",
     "text": [
      "False\n",
      "True\n",
      "False\n",
      "True\n"
     ]
    }
   ],
   "source": [
    "print(set2 <= set1)\n",
    "print(set3 <= set1)\n",
    "print(set1 >= set2)\n",
    "print(set1 >= set3)"
   ]
  },
  {
   "cell_type": "code",
   "execution_count": 80,
   "metadata": {},
   "outputs": [
    {
     "name": "stdout",
     "output_type": "stream",
     "text": [
      "1\n",
      "{2, 3}\n",
      "{1, 2, 3, 4}\n",
      "{1, 2, 3, 4, 5, 6, 7, 8, 9, 11, 12}\n",
      "{5}\n",
      "{5, 6, 7, 8, 9, 11, 12}\n",
      "False\n",
      "True\n",
      "False\n",
      "True\n"
     ]
    }
   ],
   "source": [
    "\n",
    "    \n",
    "    # print(set1.intersection(set2))\n",
    "    print(set1 | set2)\n",
    "    # print(set1.union(set2))\n",
    "    print(set1 - set2)\n",
    "    # print(set1.difference(set2))\n",
    "    print(set1 ^ set2)\n",
    "    # print(set1.symmetric_difference(set2))\n",
    "    # 判斷子集和超集\n",
    "    print(set2 <= set1)\n",
    "    # print(set2.issubset(set1))\n",
    "    print(set3 <= set1)\n",
    "    # print(set3.issubset(set1))\n",
    "    print(set1 >= set2)\n",
    "    # print(set1.issuperset(set2))\n",
    "    print(set1 >= set3)\n",
    "    # print(set1.issuperset(set3))"
   ]
  },
  {
   "cell_type": "code",
   "execution_count": null,
   "metadata": {},
   "outputs": [],
   "source": [
    "def main():\n",
    "    set1 = {1, 2, 3, 3, 3, 2}\n",
    "    print(set1)\n",
    "    print('Length =', len(set1))\n",
    "    set2 = set(range(1, 10))\n",
    "    print(set2)\n",
    "    set1.add(4)\n",
    "    set1.add(5)\n",
    "    set2.update([11, 12])\n",
    "    print(set1)\n",
    "    print(set2)\n",
    "    set2.discard(5)\n",
    "    # remove的元素如果不存在會引發KeyError\n",
    "    if 4 in set2:\n",
    "        set2.remove(4)\n",
    "    print(set2)\n",
    "    # 遍歷集合容器\n",
    "    for elem in set2:\n",
    "        print(elem ** 2, end=' ')\n",
    "    print()\n",
    "    # 將元組轉換成集合\n",
    "    set3 = set((1, 2, 3, 3, 2, 1))\n",
    "    print(set3.pop())\n",
    "    print(set3)\n",
    "    # 集合的交集、並集、差集、對稱差運算\n",
    "    print(set1 & set2)\n",
    "    # print(set1.intersection(set2))\n",
    "    print(set1 | set2)\n",
    "    # print(set1.union(set2))\n",
    "    print(set1 - set2)\n",
    "    # print(set1.difference(set2))\n",
    "    print(set1 ^ set2)\n",
    "    # print(set1.symmetric_difference(set2))\n",
    "    # 判斷子集和超集\n",
    "    print(set2 <= set1)\n",
    "    # print(set2.issubset(set1))\n",
    "    print(set3 <= set1)\n",
    "    # print(set3.issubset(set1))\n",
    "    print(set1 >= set2)\n",
    "    # print(set1.issuperset(set2))\n",
    "    print(set1 >= set3)\n",
    "    # print(set1.issuperset(set3))\n",
    "\n",
    "\n",
    "if __name__ == '__main__':\n",
    "    main()"
   ]
  },
  {
   "cell_type": "code",
   "execution_count": 104,
   "metadata": {},
   "outputs": [
    {
     "name": "stdout",
     "output_type": "stream",
     "text": [
      "95\n",
      "82\n",
      "駱昊\t--->\t95\n",
      "白元芳\t--->\t78\n",
      "狄仁傑\t--->\t82\n",
      "{'駱昊': 95, '白元芳': 65, '狄仁傑': 82, '諸葛王朗': 71, '冷麵': 67, '方啟鶴': 85}\n",
      "None\n",
      "60\n",
      "('方啟鶴', 85)\n",
      "('冷麵', 67)\n",
      "95\n",
      "{}\n"
     ]
    }
   ],
   "source": [
    "def main():\n",
    "    scores = {'駱昊': 95, '白元芳': 78, '狄仁傑': 82}\n",
    "    # 通過鍵可以獲取字典中對應的值\n",
    "    print(scores['駱昊'])\n",
    "    print(scores['狄仁傑'])\n",
    "    # 對字典進行遍歷(遍歷的其實是鍵再通過鍵取對應的值)\n",
    "    for elem in scores:\n",
    "        print('%s\\t--->\\t%d' % (elem, scores[elem]))\n",
    "    # 更新字典中的元素\n",
    "    scores['白元芳'] = 65\n",
    "    scores['諸葛王朗'] = 71\n",
    "    scores.update(冷麵=67, 方啟鶴=85)\n",
    "    print(scores)\n",
    "    if '武則天' in scores:\n",
    "        print(scores['武則天'])\n",
    "    print(scores.get('武則天'))\n",
    "    # get方法也是通過鍵獲取對應的值但是可以設置默認值\n",
    "    print(scores.get('武則天', 60))\n",
    "    # 刪除字典中的元素\n",
    "    print(scores.popitem())\n",
    "    print(scores.popitem())\n",
    "    print(scores.pop('駱昊', 100))\n",
    "    # 清空字典\n",
    "    scores.clear()\n",
    "    print(scores)\n",
    "\n",
    "\n",
    "if __name__ == '__main__':\n",
    "    main()"
   ]
  },
  {
   "cell_type": "code",
   "execution_count": 116,
   "metadata": {},
   "outputs": [
    {
     "name": "stdout",
     "output_type": "stream",
     "text": [
      "95\n",
      "82\n",
      "駱昊\t--->\t95\n",
      "白元芳\t--->\t78\n",
      "狄仁傑\t--->\t82\n"
     ]
    }
   ],
   "source": [
    "scores = {'駱昊': 95, '白元芳': 78, '狄仁傑': 82}\n",
    "# 通過鍵可以獲取字典中對應的值\n",
    "print(scores['駱昊'])\n",
    "print(scores['狄仁傑'])\n",
    "# 對字典進行遍歷(遍歷的其實是鍵再通過鍵取對應的值)\n",
    "for elem in scores:\n",
    "    print('%s\\t--->\\t%d' % (elem, scores[elem]))"
   ]
  },
  {
   "cell_type": "code",
   "execution_count": 117,
   "metadata": {},
   "outputs": [
    {
     "name": "stdout",
     "output_type": "stream",
     "text": [
      "{'駱昊': 95, '白元芳': 65, '狄仁傑': 82, '諸葛王朗': 71, '冷麵': 67, '方啟鶴': 85}\n",
      "None\n"
     ]
    }
   ],
   "source": [
    "# 更新字典中的元素\n",
    "scores['白元芳'] = 65\n",
    "scores['諸葛王朗'] = 71\n",
    "scores.update(冷麵=67, 方啟鶴=85)\n",
    "print(scores)\n",
    "if '武則天' in scores:\n",
    "    print(scores['武則天'])\n",
    "print(scores.get('武則天'))"
   ]
  },
  {
   "cell_type": "code",
   "execution_count": 107,
   "metadata": {},
   "outputs": [
    {
     "name": "stdout",
     "output_type": "stream",
     "text": [
      "60\n"
     ]
    }
   ],
   "source": [
    "# get方法也是通過鍵獲取對應的值但是可以設置默認值\n",
    "print(scores.get('武則天', 60))"
   ]
  },
  {
   "cell_type": "code",
   "execution_count": 121,
   "metadata": {},
   "outputs": [
    {
     "name": "stdout",
     "output_type": "stream",
     "text": [
      "{'白元芳': 65, '狄仁傑': 82, '諸葛王朗': 71, '冷麵': 67, '方啟鶴': 85}\n"
     ]
    }
   ],
   "source": [
    "print(scores)"
   ]
  },
  {
   "cell_type": "code",
   "execution_count": 122,
   "metadata": {},
   "outputs": [
    {
     "name": "stdout",
     "output_type": "stream",
     "text": [
      "100\n",
      "{}\n"
     ]
    }
   ],
   "source": [
    "# 刪除字典中的元素\n",
    "print(scores.pop('駱昊', 100))\n",
    "# 清空字典\n",
    "scores.clear()\n",
    "print(scores)"
   ]
  },
  {
   "cell_type": "code",
   "execution_count": 20,
   "metadata": {},
   "outputs": [
    {
     "name": "stdout",
     "output_type": "stream",
     "text": [
      "playyyyyyy…………\n",
      "layyyyyyy…………p\n",
      "ayyyyyyy…………pl\n",
      "yyyyyyy…………pla\n",
      "yyyyyy…………play\n",
      "yyyyy…………playy\n",
      "yyyy…………playyy\n"
     ]
    },
    {
     "ename": "KeyboardInterrupt",
     "evalue": "",
     "output_type": "error",
     "traceback": [
      "\u001b[0;31m---------------------------------------------------------------------------\u001b[0m",
      "\u001b[0;31mKeyboardInterrupt\u001b[0m                         Traceback (most recent call last)",
      "\u001b[0;32m<ipython-input-20-e77e341e956b>\u001b[0m in \u001b[0;36m<module>\u001b[0;34m\u001b[0m\n\u001b[1;32m     15\u001b[0m \u001b[0;34m\u001b[0m\u001b[0m\n\u001b[1;32m     16\u001b[0m \u001b[0;32mif\u001b[0m \u001b[0m__name__\u001b[0m \u001b[0;34m==\u001b[0m \u001b[0;34m'__main__'\u001b[0m\u001b[0;34m:\u001b[0m\u001b[0;34m\u001b[0m\u001b[0;34m\u001b[0m\u001b[0m\n\u001b[0;32m---> 17\u001b[0;31m     \u001b[0mmain\u001b[0m\u001b[0;34m(\u001b[0m\u001b[0;34m)\u001b[0m\u001b[0;34m\u001b[0m\u001b[0;34m\u001b[0m\u001b[0m\n\u001b[0m",
      "\u001b[0;32m<ipython-input-20-e77e341e956b>\u001b[0m in \u001b[0;36mmain\u001b[0;34m()\u001b[0m\n\u001b[1;32m     10\u001b[0m         \u001b[0mprint\u001b[0m\u001b[0;34m(\u001b[0m\u001b[0mcontent\u001b[0m\u001b[0;34m)\u001b[0m\u001b[0;34m\u001b[0m\u001b[0;34m\u001b[0m\u001b[0m\n\u001b[1;32m     11\u001b[0m         \u001b[0;31m# 休眠200毫秒\u001b[0m\u001b[0;34m\u001b[0m\u001b[0;34m\u001b[0m\u001b[0;34m\u001b[0m\u001b[0m\n\u001b[0;32m---> 12\u001b[0;31m         \u001b[0mtime\u001b[0m\u001b[0;34m.\u001b[0m\u001b[0msleep\u001b[0m\u001b[0;34m(\u001b[0m\u001b[0;36m2\u001b[0m\u001b[0;34m)\u001b[0m\u001b[0;34m\u001b[0m\u001b[0;34m\u001b[0m\u001b[0m\n\u001b[0m\u001b[1;32m     13\u001b[0m         \u001b[0mcontent\u001b[0m \u001b[0;34m=\u001b[0m \u001b[0mcontent\u001b[0m\u001b[0;34m[\u001b[0m\u001b[0;36m1\u001b[0m\u001b[0;34m:\u001b[0m\u001b[0;34m]\u001b[0m \u001b[0;34m+\u001b[0m \u001b[0mcontent\u001b[0m\u001b[0;34m[\u001b[0m\u001b[0;36m0\u001b[0m\u001b[0;34m]\u001b[0m\u001b[0;34m\u001b[0m\u001b[0;34m\u001b[0m\u001b[0m\n\u001b[1;32m     14\u001b[0m \u001b[0;34m\u001b[0m\u001b[0m\n",
      "\u001b[0;31mKeyboardInterrupt\u001b[0m: "
     ]
    }
   ],
   "source": [
    "import os\n",
    "import time\n",
    "\n",
    "\n",
    "def main():\n",
    "    content = 'playyyyyyy…………'\n",
    "    while True:\n",
    "        # 清理屏幕上的输出\n",
    "        os.system('cls')  # os.system('clear')\n",
    "        print(content)\n",
    "        # 休眠200毫秒\n",
    "        time.sleep(2)\n",
    "        content = content[1:] + content[0]\n",
    "\n",
    "\n",
    "if __name__ == '__main__':\n",
    "    main()"
   ]
  },
  {
   "cell_type": "code",
   "execution_count": null,
   "metadata": {},
   "outputs": [],
   "source": []
  },
  {
   "cell_type": "code",
   "execution_count": 31,
   "metadata": {},
   "outputs": [],
   "source": [
    "import random\n",
    "\n",
    "\n",
    "def generate_code(code_len=6):\n",
    "    \"\"\"\n",
    "    生成指定长度的验证码\n",
    "\n",
    "    :param code_len: 验证码的长度(默认4个字符)\n",
    "\n",
    "    :return: 由大小写英文字母和数字构成的随机验证码\n",
    "    \"\"\"\n",
    "    all_chars = '0123456789abcdefghijklmnopqrstuvwxyzABCDEFGHIJKLMNOPQRSTUVWXYZ'\n",
    "    last_pos = len(all_chars) - 1\n",
    "    code = ''\n",
    "    for i in range(code_len):\n",
    "        index = random.randint(0, last_pos)\n",
    "        code = code + all_chars[index]\n",
    "    return code"
   ]
  },
  {
   "cell_type": "code",
   "execution_count": 32,
   "metadata": {},
   "outputs": [
    {
     "name": "stdout",
     "output_type": "stream",
     "text": [
      "DttLjt\n"
     ]
    }
   ],
   "source": [
    "print(generate_code())"
   ]
  },
  {
   "cell_type": "code",
   "execution_count": 53,
   "metadata": {},
   "outputs": [
    {
     "data": {
      "text/plain": [
       "str"
      ]
     },
     "execution_count": 53,
     "metadata": {},
     "output_type": "execute_result"
    }
   ],
   "source": [
    "all_chars = ['012345678abcdefghijklmnopqrstuvwxyzABCDEFGHIJKLMNOPQRSTUVWXYZ']\n",
    "all_chars[0]\n",
    "type(all_chars[0])"
   ]
  },
  {
   "cell_type": "code",
   "execution_count": 81,
   "metadata": {},
   "outputs": [
    {
     "name": "stdout",
     "output_type": "stream",
     "text": [
      "4\n",
      "B2d2\n"
     ]
    }
   ],
   "source": [
    "code_len = int(input())\n",
    "all_chars = '012abcdABCD'\n",
    "code = ''\n",
    "for i in range(code_len):\n",
    "    index = random.randint(0,len(all_chars)-1)\n",
    "    code = code + all_chars[index]\n",
    "print(code)"
   ]
  },
  {
   "cell_type": "code",
   "execution_count": 84,
   "metadata": {},
   "outputs": [
    {
     "name": "stdout",
     "output_type": "stream",
     "text": [
      "輸入密碼長度5\n",
      "your code is 5C4C5\n"
     ]
    }
   ],
   "source": [
    "import random\n",
    "code_len = int(input('輸入密碼長度'))\n",
    "all_chars = '12345abcdABCD'\n",
    "code = ''\n",
    "for i in range (code_len):\n",
    "    index = random.randint(0,len(all_chars)-1)\n",
    "    code = code + all_chars[index]\n",
    "print('your code is ' + code)"
   ]
  },
  {
   "cell_type": "code",
   "execution_count": 86,
   "metadata": {},
   "outputs": [],
   "source": [
    "def get_suffix(filename, has_dot=False):\n",
    "    \"\"\"\n",
    "    获取文件名的后缀名\n",
    "\n",
    "    :param filename: 文件名\n",
    "    :param has_dot: 返回的后缀名是否需要带点\n",
    "    :return: 文件的后缀名\n",
    "    \"\"\"\n",
    "    pos = filename.rfind('.')\n",
    "    if 0 < pos < len(filename) - 1:\n",
    "        index = pos if has_dot else pos + 1\n",
    "        return filename[index:]\n",
    "    else:\n",
    "        return ''"
   ]
  },
  {
   "cell_type": "code",
   "execution_count": 88,
   "metadata": {},
   "outputs": [
    {
     "data": {
      "text/plain": [
       "'see'"
      ]
     },
     "execution_count": 88,
     "metadata": {},
     "output_type": "execute_result"
    }
   ],
   "source": [
    "get_suffix('程序邏輯.see')"
   ]
  },
  {
   "cell_type": "code",
   "execution_count": 69,
   "metadata": {},
   "outputs": [],
   "source": [
    "x = [14,12]"
   ]
  },
  {
   "cell_type": "code",
   "execution_count": 71,
   "metadata": {},
   "outputs": [],
   "source": [
    "def max2(x):\n",
    "    m1, m2 = (x[0], x[1]) if x[0] > x[1] else (x[1], x[0])\n",
    "    for index in range(2, len(x)):\n",
    "        if x[index] > m1:\n",
    "            m2 = m1\n",
    "            m1 = x[index]\n",
    "        elif x[index] > m2:\n",
    "            m2 = x[index]\n",
    "    return m1, m2"
   ]
  },
  {
   "cell_type": "code",
   "execution_count": 72,
   "metadata": {},
   "outputs": [
    {
     "data": {
      "text/plain": [
       "14"
      ]
     },
     "execution_count": 72,
     "metadata": {},
     "output_type": "execute_result"
    }
   ],
   "source": [
    "max(x)"
   ]
  },
  {
   "cell_type": "code",
   "execution_count": 104,
   "metadata": {},
   "outputs": [],
   "source": [
    "def is_leap_year2(year):\n",
    "    if (year % 4 == 0 and year % 100 != 0) or year%400 == 0 :\n",
    "        return True\n",
    "    else :\n",
    "        return False "
   ]
  },
  {
   "cell_type": "code",
   "execution_count": 19,
   "metadata": {},
   "outputs": [
    {
     "data": {
      "text/plain": [
       "True"
      ]
     },
     "execution_count": 19,
     "metadata": {},
     "output_type": "execute_result"
    }
   ],
   "source": [
    "is_leap_year2(2000)"
   ]
  },
  {
   "cell_type": "code",
   "execution_count": 96,
   "metadata": {},
   "outputs": [
    {
     "data": {
      "text/plain": [
       "29"
      ]
     },
     "execution_count": 96,
     "metadata": {},
     "output_type": "execute_result"
    }
   ],
   "source": [
    "days_of_month = [\n",
    "        [31, 28, 31, 30, 31, 30, 31, 31, 30, 31, 30, 31],\n",
    "        [31, 29, 31, 30, 31, 30, 31, 31, 30, 31, 30, 31]\n",
    "    ][True]\n",
    "days_of_month[1]"
   ]
  },
  {
   "cell_type": "code",
   "execution_count": 109,
   "metadata": {},
   "outputs": [
    {
     "name": "stdout",
     "output_type": "stream",
     "text": [
      "354\n"
     ]
    }
   ],
   "source": [
    "def which_day2(year, month, date):\n",
    "    \n",
    "    days_of_month = [\n",
    "        [31, 28, 31, 30, 31, 30, 31, 31, 30, 31, 30, 31],\n",
    "        [31, 29, 31, 30, 31, 30, 31, 31, 30, 31, 30, 31]\n",
    "    ][is_leap_year2(year)]\n",
    "    total = 0\n",
    "    for index in range (month-1) :\n",
    "        total = total + days_of_month[index]\n",
    "    return total + date\n",
    "\n",
    "print(which_day2(2002,12,20))"
   ]
  },
  {
   "cell_type": "code",
   "execution_count": 101,
   "metadata": {},
   "outputs": [
    {
     "name": "stdout",
     "output_type": "stream",
     "text": [
      "333\n",
      "365\n",
      "1\n",
      "61\n"
     ]
    }
   ],
   "source": [
    "def is_leap_year(year):\n",
    "    \"\"\"\n",
    "    判斷指定的年份是不是閏年\n",
    "\n",
    "    :param year: 年份\n",
    "    :return: 閏年返回True平年返回False\n",
    "    \"\"\"\n",
    "    return year % 4 == 0 and year % 100 != 0 or year % 400 == 0\n",
    "\n",
    "\n",
    "def which_day(year, month, date):\n",
    "    \"\"\"\n",
    "    計算傳入的日期是這一年的第幾天\n",
    "\n",
    "    :param year: 年\n",
    "    :param month: 月\n",
    "    :param date: 日\n",
    "    :return: 第幾天\n",
    "    \"\"\"\n",
    "    days_of_month = [\n",
    "        [31, 28, 31, 30, 31, 30, 31, 31, 30, 31, 30, 31],\n",
    "        [31, 29, 31, 30, 31, 30, 31, 31, 30, 31, 30, 31]\n",
    "    ][is_leap_year(year)]\n",
    "    total = 0\n",
    "    for index in range(month - 1):\n",
    "        total += days_of_month[index]\n",
    "    return total + date\n",
    "\n",
    "\n",
    "def main():\n",
    "    print(which_day(1980, 11, 28))\n",
    "    print(which_day(1981, 12, 31))\n",
    "    print(which_day(2018, 1, 1))\n",
    "    print(which_day(2016, 3, 1))\n",
    "\n",
    "\n",
    "if __name__ == '__main__':\n",
    "    main()"
   ]
  },
  {
   "cell_type": "code",
   "execution_count": 6,
   "metadata": {},
   "outputs": [
    {
     "data": {
      "text/plain": [
       "True"
      ]
     },
     "execution_count": 6,
     "metadata": {},
     "output_type": "execute_result"
    }
   ],
   "source": [
    "is_leap_year(2020)"
   ]
  },
  {
   "cell_type": "code",
   "execution_count": 4,
   "metadata": {},
   "outputs": [
    {
     "data": {
      "text/plain": [
       "111"
      ]
     },
     "execution_count": 4,
     "metadata": {},
     "output_type": "execute_result"
    }
   ],
   "source": [
    "which_day(2020,4,20)"
   ]
  },
  {
   "cell_type": "code",
   "execution_count": 91,
   "metadata": {},
   "outputs": [
    {
     "data": {
      "text/plain": [
       "[31, 29, 31, 30, 31, 30, 31, 31, 30, 31, 30, 31]"
      ]
     },
     "execution_count": 91,
     "metadata": {},
     "output_type": "execute_result"
    }
   ],
   "source": [
    "days_of_month = [\n",
    "    [31, 28, 31, 30, 31, 30, 31, 31, 30, 31, 30, 31],\n",
    "    [31, 29, 31, 30, 31, 30, 31, 31, 30, 31, 30, 31]\n",
    "][True]\n",
    "days_of_month"
   ]
  },
  {
   "cell_type": "code",
   "execution_count": 32,
   "metadata": {},
   "outputs": [
    {
     "data": {
      "text/plain": [
       "[[], [], [], [], [], [], [], [], [], []]"
      ]
     },
     "execution_count": 32,
     "metadata": {},
     "output_type": "execute_result"
    }
   ],
   "source": [
    "yh = [[]]*10\n",
    "yh"
   ]
  },
  {
   "cell_type": "code",
   "execution_count": 33,
   "metadata": {},
   "outputs": [
    {
     "data": {
      "text/plain": [
       "10"
      ]
     },
     "execution_count": 33,
     "metadata": {},
     "output_type": "execute_result"
    }
   ],
   "source": [
    "len(yh)"
   ]
  },
  {
   "cell_type": "code",
   "execution_count": 7,
   "metadata": {},
   "outputs": [
    {
     "name": "stdout",
     "output_type": "stream",
     "text": [
      "[[2, 3, 5], [2, 3, 5, 2, 3, 5], [2, 3, 5, 2, 3, 5, 2, 3, 5]]\n",
      "[2, 3, 5, 2, 3, 5]\n",
      "3\n",
      "3\n",
      "6\n"
     ]
    }
   ],
   "source": [
    "yh = [[]] * 3\n",
    "len(yh)\n",
    "\n",
    "for i in range(3):\n",
    "    if i == 0 :\n",
    "        yh[i] = [2,3,5]\n",
    "    else:\n",
    "        yh[i] = [2,3,5] * (i+1)\n",
    "\n",
    "print(yh)        \n",
    "print(yh[1])\n",
    "print(yh[1][])\n",
    "print(len(yh))\n",
    "print(len(yh[1]))"
   ]
  },
  {
   "cell_type": "code",
   "execution_count": 11,
   "metadata": {},
   "outputs": [
    {
     "name": "stdout",
     "output_type": "stream",
     "text": [
      "Number of rows:4\n",
      "1\t\n",
      "1\t1\t\n",
      "1\t2\t1\t\n",
      "1\t3\t3\t1\t\n"
     ]
    }
   ],
   "source": [
    "def main():\n",
    "    \n",
    "    num = int(input('Number of rows:'))\n",
    "    yh = [[]] * num\n",
    "    for row in range (len(yh)):\n",
    "        yh[row] = [None] * (row+1)\n",
    "        for col in range (len(yh[row])):\n",
    "            if col == 0 or col == row :\n",
    "                yh[row][col] = 1\n",
    "            else :\n",
    "                yh[row][col] = yh[ row - 1 ][ col - 1 ]+ yh[ row -1 ][ col ]\n",
    "            print(yh[row][col],end = '\\t')\n",
    "        print()\n",
    "    \n",
    "    \n",
    "if __name__ == '__main__':\n",
    "    main()"
   ]
  },
  {
   "cell_type": "code",
   "execution_count": 119,
   "metadata": {},
   "outputs": [
    {
     "name": "stdout",
     "output_type": "stream",
     "text": [
      "0\n",
      "1\n",
      "2\n"
     ]
    }
   ],
   "source": [
    "for i in range (3):\n",
    "    print(i)"
   ]
  },
  {
   "cell_type": "code",
   "execution_count": null,
   "metadata": {},
   "outputs": [],
   "source": []
  },
  {
   "cell_type": "code",
   "execution_count": 138,
   "metadata": {},
   "outputs": [
    {
     "name": "stdout",
     "output_type": "stream",
     "text": [
      "Number of rows: 6\n",
      "1\t\n",
      "1\t1\t\n",
      "1\t2\t1\t\n",
      "1\t3\t3\t1\t\n",
      "1\t4\t6\t4\t1\t\n",
      "1\t5\t10\t10\t5\t1\t\n"
     ]
    }
   ],
   "source": [
    "def main():\n",
    "    num = int(input('Number of rows: '))\n",
    "    yh = [[]] * num\n",
    "    for row in range(len(yh)):\n",
    "        yh[row] = [None] * (row + 1)\n",
    "        for col in range(len(yh[row])):\n",
    "            if col == 0 or col == row:\n",
    "                yh[row][col] = 1\n",
    "            else:\n",
    "                yh[row][col] = yh[row - 1][col] + yh[row - 1][col - 1]\n",
    "            print(yh[row][col], end='\\t')\n",
    "        print()\n",
    "\n",
    "\n",
    "if __name__ == '__main__':\n",
    "    main()"
   ]
  },
  {
   "cell_type": "code",
   "execution_count": 74,
   "metadata": {},
   "outputs": [
    {
     "name": "stdout",
     "output_type": "stream",
     "text": [
      "[[2, 3, 5], [2, 3, 5, 2, 3, 5], [2, 3, 5, 2, 3, 5, 2, 3, 5]]\n",
      "[2, 3, 5, 2, 3, 5]\n",
      "2\n",
      "3\n",
      "6\n"
     ]
    }
   ],
   "source": [
    "yh = [[]] * 3\n",
    "len(yh)\n",
    "\n",
    "for i in range(3):\n",
    "    if i == 0 :\n",
    "        yh[i] = [2,3,5]\n",
    "    else:\n",
    "        yh[i] = [2,3,5] * (i+1)\n",
    "\n",
    "print(yh)        \n",
    "print(yh[1])\n",
    "print(yh[1][0])\n",
    "print(len(yh))\n",
    "print(len(yh[1]))"
   ]
  },
  {
   "cell_type": "code",
   "execution_count": 39,
   "metadata": {},
   "outputs": [],
   "source": [
    "def combi2(r,n):\n",
    "    if n == 0:\n",
    "        return 1\n",
    "    else :\n",
    "        return combi2(r, n - 1) * (r - n + 1) // n\n",
    "    "
   ]
  },
  {
   "cell_type": "code",
   "execution_count": 86,
   "metadata": {},
   "outputs": [
    {
     "data": {
      "text/plain": [
       "[[1], [1, 1], [1, 2, 1]]"
      ]
     },
     "execution_count": 86,
     "metadata": {},
     "output_type": "execute_result"
    }
   ],
   "source": [
    "weight = 3\n",
    "c = [[]] * weight\n",
    "for r in range(weight):\n",
    "    c[r] = [None] * (r + 1)\n",
    "    for n in range(r+1):\n",
    "        c[r][n] = combi2(r,n)\n",
    "c"
   ]
  },
  {
   "cell_type": "code",
   "execution_count": 68,
   "metadata": {},
   "outputs": [
    {
     "name": "stdout",
     "output_type": "stream",
     "text": [
      "[[1], [1, 1], [1, 2, 1], [1, 3, 3, 1], [1, 4, 6, 4, 1]]\n",
      "                    1\n",
      "                 1     1\n",
      "              1     2     1\n",
      "           1     3     3     1\n",
      "        1     4     6     4     1\n"
     ]
    }
   ],
   "source": [
    "def combi(r, n):\n",
    "    return 1 if n == 0 else combi(r, n - 1) * (r - n + 1) // n\n",
    "    \n",
    "height = 5\n",
    "c = [[combi(r, n) for n in range(r + 1)] for r in range(height)]\n",
    "\n",
    "for r in range(len(c)):\n",
    "    print((\"%\" + str((len(c) - r) * 3) + \"s\") % \"\", end = \"\")\n",
    "    for n in range(len(c[r])):\n",
    "        print(\"%6d\" % c[r][n], end = \"\");\n",
    "    print()"
   ]
  },
  {
   "cell_type": "code",
   "execution_count": 26,
   "metadata": {},
   "outputs": [
    {
     "data": {
      "text/plain": [
       "3"
      ]
     },
     "execution_count": 26,
     "metadata": {},
     "output_type": "execute_result"
    }
   ],
   "source": [
    "combi(3,2)"
   ]
  },
  {
   "cell_type": "code",
   "execution_count": 13,
   "metadata": {},
   "outputs": [
    {
     "name": "stdout",
     "output_type": "stream",
     "text": [
      "0\n",
      "Alice\n",
      "0 Alice\n",
      "1\n",
      "Bob\n",
      "1 Bob\n",
      "2\n",
      "Cindy\n",
      "2 Cindy\n"
     ]
    }
   ],
   "source": [
    "names = ['Alice', 'Bob', 'Cindy']\n",
    "for index, element in enumerate(names):\n",
    "    print(index)\n",
    "    print(element)\n",
    "    print ('%d %s' % (index, element))\n"
   ]
  },
  {
   "cell_type": "code",
   "execution_count": 12,
   "metadata": {},
   "outputs": [
    {
     "name": "stdout",
     "output_type": "stream",
     "text": [
      "0 Alice\n",
      "1 Bob\n",
      "2 Cindy\n"
     ]
    }
   ],
   "source": [
    "names = ['Alice', 'Bob', 'Cindy']\n",
    "index = 0\n",
    "while index < len(names):\n",
    "    print ('%d %s' % (index, names[index]))\n",
    "    index += 1"
   ]
  },
  {
   "cell_type": "code",
   "execution_count": 23,
   "metadata": {},
   "outputs": [
    {
     "name": "stdout",
     "output_type": "stream",
     "text": [
      "| 07 \n"
     ]
    }
   ],
   "source": [
    "def display(balls):\n",
    "    \"\"\"\n",
    "    輸出列表中的雙色球號碼\n",
    "    \"\"\"\n",
    "    for index, ball in enumerate(balls):\n",
    "        if index == len(balls) - 1:\n",
    "            print('|', end=' ')\n",
    "        print('%02d' % ball, end=' ')\n",
    "    print()\n",
    "\n",
    "display([7])"
   ]
  },
  {
   "cell_type": "code",
   "execution_count": 67,
   "metadata": {},
   "outputs": [
    {
     "data": {
      "text/plain": [
       "[3, 4, 5, 6, 7, 8, 4]"
      ]
     },
     "execution_count": 67,
     "metadata": {},
     "output_type": "execute_result"
    }
   ],
   "source": [
    "red_balls = []\n",
    "for x in range(1,9):\n",
    "    red_balls = red_balls + [x]\n",
    "red_balls\n",
    "\n",
    "selected_balls = []\n",
    "selected_balls = sample(red_balls, 6)\n",
    "selected_balls.sort()\n",
    "selected_balls.append(randint(1, 16))\n",
    "selected_balls"
   ]
  },
  {
   "cell_type": "code",
   "execution_count": 59,
   "metadata": {},
   "outputs": [
    {
     "data": {
      "text/plain": [
       "[1, 2, 3, 4, 5, 6, 7]"
      ]
     },
     "execution_count": 59,
     "metadata": {},
     "output_type": "execute_result"
    }
   ],
   "source": [
    "red_balls = [x for x in range(1, 8)]\n",
    "red_balls"
   ]
  },
  {
   "cell_type": "code",
   "execution_count": 68,
   "metadata": {},
   "outputs": [
    {
     "name": "stdout",
     "output_type": "stream",
     "text": [
      "03 04 05 06 07 08 | 04 \n"
     ]
    }
   ],
   "source": [
    "def display(balls):\n",
    "    \"\"\"\n",
    "    輸出列表中的雙色球號碼\n",
    "    \"\"\"\n",
    "    for index, ball in enumerate(balls):\n",
    "        if index == len(balls) - 1:\n",
    "            print('|', end=' ')\n",
    "        print('%02d' % ball, end=' ')\n",
    "    print()\n",
    "display(selected_balls)"
   ]
  },
  {
   "cell_type": "code",
   "execution_count": 69,
   "metadata": {},
   "outputs": [
    {
     "name": "stdout",
     "output_type": "stream",
     "text": [
      "機選幾注: 5\n",
      "05 06 08 23 29 31 | 14 \n",
      "07 14 16 24 32 33 | 03 \n",
      "05 07 11 15 25 28 | 04 \n",
      "05 17 20 21 26 29 | 13 \n",
      "03 14 16 21 23 29 | 04 \n"
     ]
    }
   ],
   "source": [
    "from random import randrange, randint, sample\n",
    "\n",
    "\n",
    "def display(balls):\n",
    "    \"\"\"\n",
    "    輸出列表中的雙色球號碼\n",
    "    \"\"\"\n",
    "    for index, ball in enumerate(balls):\n",
    "        if index == len(balls) - 1:\n",
    "            print('|', end=' ')\n",
    "        print('%02d' % ball, end=' ')\n",
    "    print()\n",
    "\n",
    "\n",
    "def random_select():\n",
    "    \"\"\"\n",
    "    隨機選擇一組號碼\n",
    "    \"\"\"\n",
    "    red_balls = [x for x in range(1, 34)]\n",
    "    selected_balls = []\n",
    "    selected_balls = sample(red_balls, 6)\n",
    "    selected_balls.sort()\n",
    "    selected_balls.append(randint(1, 16))\n",
    "    return selected_balls\n",
    "\n",
    "\n",
    "def main():\n",
    "    n = int(input('機選幾注: '))\n",
    "    for _ in range(n):\n",
    "        display(random_select())\n",
    "\n",
    "\n",
    "if __name__ == '__main__':\n",
    "    main()"
   ]
  },
  {
   "cell_type": "code",
   "execution_count": 4,
   "metadata": {},
   "outputs": [
    {
     "name": "stdout",
     "output_type": "stream",
     "text": [
      "[True, True, True, True, True]\n",
      "counter = 0,index = 1, number = 1\n",
      "[True, False, True, True, True]\n",
      "counter = 1,index = 2, number = 0\n",
      "[True, False, True, True, True]\n",
      "counter = 1,index = 3, number = 1\n",
      "[True, False, True, False, True]\n",
      "counter = 2,index = 4, number = 0\n",
      "[True, False, True, False, True]\n",
      "counter = 2,index = 0, number = 1\n",
      "[False, False, True, False, True]\n",
      "counter = 3,index = 1, number = 0\n"
     ]
    },
    {
     "data": {
      "text/plain": [
       "[False, False, True, False, True]"
      ]
     },
     "execution_count": 4,
     "metadata": {},
     "output_type": "execute_result"
    }
   ],
   "source": [
    "persons = [True] * 5\n",
    "persons\n",
    "counter, index, number = 0, 0, 0\n",
    "\n",
    "while counter < 3:\n",
    "    if persons[index]:\n",
    "        number = number + 1\n",
    "        if number == 2:\n",
    "            persons[index] = False\n",
    "            counter = counter + 1\n",
    "            number = 0\n",
    "    index = index + 1\n",
    "    index = index % 5\n",
    "    print(persons)\n",
    "    print(('counter = %d,index = %d, number = %d') % (counter , index , number))\n",
    "persons"
   ]
  },
  {
   "cell_type": "code",
   "execution_count": 60,
   "metadata": {},
   "outputs": [
    {
     "name": "stdout",
     "output_type": "stream",
     "text": [
      "[False, False, True, False, True]\n",
      "5\n"
     ]
    },
    {
     "data": {
      "text/plain": [
       "['非', '非', '基', '非', '基']"
      ]
     },
     "execution_count": 60,
     "metadata": {},
     "output_type": "execute_result"
    }
   ],
   "source": [
    "ps = [True] * 5\n",
    "c,i,n = 0,0,0\n",
    "while c < 3 :\n",
    "    if ps[i]:\n",
    "        n = n + 1\n",
    "        if n == 2 :\n",
    "            ps[i] = False\n",
    "            c = c+ 1\n",
    "            n = 0 \n",
    "    i = i + 1\n",
    "    i = i % 5\n",
    "print(ps)\n",
    "print(len(ps))\n",
    "\n",
    "for p in range(len(ps)) :\n",
    "    if ps[p] == True:\n",
    "        ps[p] = '基'\n",
    "    else:\n",
    "        ps[p] = '非'\n",
    "ps\n",
    "    "
   ]
  },
  {
   "cell_type": "code",
   "execution_count": 55,
   "metadata": {},
   "outputs": [
    {
     "name": "stdout",
     "output_type": "stream",
     "text": [
      "3\n"
     ]
    },
    {
     "data": {
      "text/plain": [
       "int"
      ]
     },
     "execution_count": 55,
     "metadata": {},
     "output_type": "execute_result"
    }
   ],
   "source": [
    "ppp = (1,2,3)\n",
    "print(len(ppp))\n",
    "type(len(ppp))\n"
   ]
  },
  {
   "cell_type": "code",
   "execution_count": 57,
   "metadata": {},
   "outputs": [
    {
     "name": "stdout",
     "output_type": "stream",
     "text": [
      "3\n",
      "False\n",
      "['基', '基', '非']\n"
     ]
    }
   ],
   "source": [
    "ppp = [True,True,False]\n",
    "print(len(ppp))\n",
    "print(ppp[2])\n",
    "for i in range(len(ppp)):\n",
    "    if ppp[i] == True:\n",
    "        ppp[i] = '基'\n",
    "    else :\n",
    "        ppp[i] = '非'\n",
    "print(ppp)"
   ]
  },
  {
   "cell_type": "code",
   "execution_count": 3,
   "metadata": {},
   "outputs": [
    {
     "data": {
      "text/plain": [
       "[True,\n",
       " True,\n",
       " True,\n",
       " True,\n",
       " False,\n",
       " False,\n",
       " False,\n",
       " False,\n",
       " False,\n",
       " True,\n",
       " True,\n",
       " False,\n",
       " True,\n",
       " True,\n",
       " True,\n",
       " False,\n",
       " True,\n",
       " False,\n",
       " False,\n",
       " True,\n",
       " True,\n",
       " False,\n",
       " False,\n",
       " False,\n",
       " True,\n",
       " False,\n",
       " False,\n",
       " True,\n",
       " True,\n",
       " False]"
      ]
     },
     "execution_count": 3,
     "metadata": {},
     "output_type": "execute_result"
    }
   ],
   "source": [
    "persons = [True] * 30\n",
    "counter, index, number = 0, 0, 0\n",
    "while counter < 15:\n",
    "    if persons[index]:\n",
    "        number = number + 1\n",
    "persons"
   ]
  },
  {
   "cell_type": "code",
   "execution_count": 63,
   "metadata": {},
   "outputs": [
    {
     "name": "stdout",
     "output_type": "stream",
     "text": [
      "基基基基非非非非非基基非基基基非基非非基基非非非基非非基基非"
     ]
    }
   ],
   "source": [
    "def main():\n",
    "    persons = [True] * 30\n",
    "    counter, index, number = 0, 0, 0\n",
    "    while counter < 15:\n",
    "        if persons[index]:\n",
    "            number = number + 1\n",
    "            if number == 9:\n",
    "                persons[index] = False\n",
    "                counter = counter + 1\n",
    "                number = 0\n",
    "        index = index + 1\n",
    "        index = index % 30\n",
    "    for person in persons:\n",
    "        print('基' if person else '非', end='')\n",
    "\n",
    "\n",
    "if __name__ == '__main__':\n",
    "    main()"
   ]
  },
  {
   "cell_type": "code",
   "execution_count": 65,
   "metadata": {},
   "outputs": [
    {
     "name": "stdout",
     "output_type": "stream",
     "text": [
      "基基基基非非非非非基基非基基基非基非非基基非非非基非非基基非"
     ]
    }
   ],
   "source": [
    "def main():\n",
    "    persons = [True] * 30\n",
    "    counter, index, number = 0, 0, 0\n",
    "    while counter < 15:\n",
    "        if persons[index]:\n",
    "            number = number + 1\n",
    "            if number == 9:\n",
    "                persons[index] = False\n",
    "                counter = counter + 1\n",
    "                number = 0\n",
    "        index = index + 1\n",
    "        index = index % 30\n",
    "    for p in range(len(persons)) :\n",
    "        if persons[p] == True:\n",
    "            print('基',end = '')\n",
    "        else:\n",
    "            print('非', end = '')\n",
    "\n",
    "if __name__ == '__main__':\n",
    "    main()"
   ]
  },
  {
   "cell_type": "code",
   "execution_count": null,
   "metadata": {},
   "outputs": [],
   "source": [
    "def main():\n",
    "    persons = [True] * 30\n",
    "    counter, index, number = 0, 0, 0\n",
    "    while counter < 15:\n",
    "        if persons[index]:\n",
    "            number = number + 1\n",
    "            if number == 9:\n",
    "                persons[index] = False\n",
    "                counter = counter + 1\n",
    "                number = 0\n",
    "        index = index + 1\n",
    "        index = index % 30\n",
    "    for p in range(len(persons)) :\n",
    "        if persons[p] == True:\n",
    "            persons[p] = '基'\n",
    "        else:\n",
    "            persons[p] = '非'\n",
    "    print(persons)\n",
    "\n",
    "if __name__ == '__main__':\n",
    "    main()"
   ]
  },
  {
   "cell_type": "code",
   "execution_count": 3,
   "metadata": {},
   "outputs": [
    {
     "name": "stdout",
     "output_type": "stream",
     "text": [
      "自殺順序：[3, 6, 9, 12, 15, 18, 21, 24, 27, 30, 33, 36, 39, 1, 5, 10, 14, 19, 23, 28, 32, 37, 41, 7, 13, 20, 26, 34, 40, 8, 17, 29, 38, 11, 25, 2, 22, 4, 35, 16, 31]\n",
      "約瑟夫環：[14, 36, 1, 38, 15, 2, 24, 30, 3, 16, 34, 4, 25, 17, 5, 40, 31, 6, 18, 26, 7, 37, 19, 8, 35, 27, 9, 20, 32, 10, 41, 21, 11, 28, 39, 12, 22, 33, 13, 29, 23]\n"
     ]
    }
   ],
   "source": [
    "def remove(list, i):\n",
    "    return list[0:i] + list[i + 1:]\n",
    "    \n",
    "def awayOrder(l, k):\n",
    "    def suicide(numbers, awayOrder, i):\n",
    "        awayOrd = awayOrder + [numbers[i]]\n",
    "        nums = remove(numbers, i)\n",
    "        return awayOrd if len(nums) == 0 \\\n",
    "            else suicide(nums, awayOrd, (i + k - 1) % len(nums))\n",
    "\n",
    "    return suicide([i for i in range(1, l + 1)], [], 2)\n",
    "\n",
    "def josephus(awayOrder):\n",
    "    return [awayOrder.index(i) + 1 for i in range(1, len(awayOrder) + 1)]\n",
    "    \n",
    "awayOrd = awayOrder(41, 3)\n",
    "print(\"自殺順序：\" + str(awayOrd))\n",
    "print(\"約瑟夫環：\" + str(josephus(awayOrd)))"
   ]
  },
  {
   "cell_type": "code",
   "execution_count": 18,
   "metadata": {},
   "outputs": [
    {
     "name": "stdout",
     "output_type": "stream",
     "text": [
      " | | \n",
      "-+-+-\n",
      " | | \n",
      "-+-+-\n",
      " | | \n",
      "輪到x走棋, 請輸入位置: BL\n",
      " | | \n",
      "-+-+-\n",
      " | | \n",
      "-+-+-\n",
      "x| | \n",
      "輪到o走棋, 請輸入位置: BM\n",
      " | | \n",
      "-+-+-\n",
      " | | \n",
      "-+-+-\n",
      "x|o| \n",
      "輪到x走棋, 請輸入位置: MM\n",
      " | | \n",
      "-+-+-\n",
      " |x| \n",
      "-+-+-\n",
      "x|o| \n",
      "輪到o走棋, 請輸入位置: BR\n",
      " | | \n",
      "-+-+-\n",
      " |x| \n",
      "-+-+-\n",
      "x|o|o\n",
      "輪到x走棋, 請輸入位置: TR\n",
      " | |x\n",
      "-+-+-\n",
      " |x| \n",
      "-+-+-\n",
      "x|o|o\n",
      "輪到o走棋, 請輸入位置: TM\n",
      " |o|x\n",
      "-+-+-\n",
      " |x| \n",
      "-+-+-\n",
      "x|o|o\n"
     ]
    },
    {
     "ename": "KeyboardInterrupt",
     "evalue": "",
     "output_type": "error",
     "traceback": [
      "\u001b[0;31m---------------------------------------------------------------------------\u001b[0m",
      "\u001b[0;31mKeyboardInterrupt\u001b[0m                         Traceback (most recent call last)",
      "\u001b[0;32m~/opt/anaconda3/lib/python3.7/site-packages/ipykernel/kernelbase.py\u001b[0m in \u001b[0;36m_input_request\u001b[0;34m(self, prompt, ident, parent, password)\u001b[0m\n\u001b[1;32m    884\u001b[0m             \u001b[0;32mtry\u001b[0m\u001b[0;34m:\u001b[0m\u001b[0;34m\u001b[0m\u001b[0;34m\u001b[0m\u001b[0m\n\u001b[0;32m--> 885\u001b[0;31m                 \u001b[0mident\u001b[0m\u001b[0;34m,\u001b[0m \u001b[0mreply\u001b[0m \u001b[0;34m=\u001b[0m \u001b[0mself\u001b[0m\u001b[0;34m.\u001b[0m\u001b[0msession\u001b[0m\u001b[0;34m.\u001b[0m\u001b[0mrecv\u001b[0m\u001b[0;34m(\u001b[0m\u001b[0mself\u001b[0m\u001b[0;34m.\u001b[0m\u001b[0mstdin_socket\u001b[0m\u001b[0;34m,\u001b[0m \u001b[0;36m0\u001b[0m\u001b[0;34m)\u001b[0m\u001b[0;34m\u001b[0m\u001b[0;34m\u001b[0m\u001b[0m\n\u001b[0m\u001b[1;32m    886\u001b[0m             \u001b[0;32mexcept\u001b[0m \u001b[0mException\u001b[0m\u001b[0;34m:\u001b[0m\u001b[0;34m\u001b[0m\u001b[0;34m\u001b[0m\u001b[0m\n",
      "\u001b[0;32m~/opt/anaconda3/lib/python3.7/site-packages/jupyter_client/session.py\u001b[0m in \u001b[0;36mrecv\u001b[0;34m(self, socket, mode, content, copy)\u001b[0m\n\u001b[1;32m    802\u001b[0m         \u001b[0;32mtry\u001b[0m\u001b[0;34m:\u001b[0m\u001b[0;34m\u001b[0m\u001b[0;34m\u001b[0m\u001b[0m\n\u001b[0;32m--> 803\u001b[0;31m             \u001b[0mmsg_list\u001b[0m \u001b[0;34m=\u001b[0m \u001b[0msocket\u001b[0m\u001b[0;34m.\u001b[0m\u001b[0mrecv_multipart\u001b[0m\u001b[0;34m(\u001b[0m\u001b[0mmode\u001b[0m\u001b[0;34m,\u001b[0m \u001b[0mcopy\u001b[0m\u001b[0;34m=\u001b[0m\u001b[0mcopy\u001b[0m\u001b[0;34m)\u001b[0m\u001b[0;34m\u001b[0m\u001b[0;34m\u001b[0m\u001b[0m\n\u001b[0m\u001b[1;32m    804\u001b[0m         \u001b[0;32mexcept\u001b[0m \u001b[0mzmq\u001b[0m\u001b[0;34m.\u001b[0m\u001b[0mZMQError\u001b[0m \u001b[0;32mas\u001b[0m \u001b[0me\u001b[0m\u001b[0;34m:\u001b[0m\u001b[0;34m\u001b[0m\u001b[0;34m\u001b[0m\u001b[0m\n",
      "\u001b[0;32m~/opt/anaconda3/lib/python3.7/site-packages/zmq/sugar/socket.py\u001b[0m in \u001b[0;36mrecv_multipart\u001b[0;34m(self, flags, copy, track)\u001b[0m\n\u001b[1;32m    474\u001b[0m         \"\"\"\n\u001b[0;32m--> 475\u001b[0;31m         \u001b[0mparts\u001b[0m \u001b[0;34m=\u001b[0m \u001b[0;34m[\u001b[0m\u001b[0mself\u001b[0m\u001b[0;34m.\u001b[0m\u001b[0mrecv\u001b[0m\u001b[0;34m(\u001b[0m\u001b[0mflags\u001b[0m\u001b[0;34m,\u001b[0m \u001b[0mcopy\u001b[0m\u001b[0;34m=\u001b[0m\u001b[0mcopy\u001b[0m\u001b[0;34m,\u001b[0m \u001b[0mtrack\u001b[0m\u001b[0;34m=\u001b[0m\u001b[0mtrack\u001b[0m\u001b[0;34m)\u001b[0m\u001b[0;34m]\u001b[0m\u001b[0;34m\u001b[0m\u001b[0;34m\u001b[0m\u001b[0m\n\u001b[0m\u001b[1;32m    476\u001b[0m         \u001b[0;31m# have first part already, only loop while more to receive\u001b[0m\u001b[0;34m\u001b[0m\u001b[0;34m\u001b[0m\u001b[0;34m\u001b[0m\u001b[0m\n",
      "\u001b[0;32mzmq/backend/cython/socket.pyx\u001b[0m in \u001b[0;36mzmq.backend.cython.socket.Socket.recv\u001b[0;34m()\u001b[0m\n",
      "\u001b[0;32mzmq/backend/cython/socket.pyx\u001b[0m in \u001b[0;36mzmq.backend.cython.socket.Socket.recv\u001b[0;34m()\u001b[0m\n",
      "\u001b[0;32mzmq/backend/cython/socket.pyx\u001b[0m in \u001b[0;36mzmq.backend.cython.socket._recv_copy\u001b[0;34m()\u001b[0m\n",
      "\u001b[0;32m~/opt/anaconda3/lib/python3.7/site-packages/zmq/backend/cython/checkrc.pxd\u001b[0m in \u001b[0;36mzmq.backend.cython.checkrc._check_rc\u001b[0;34m()\u001b[0m\n",
      "\u001b[0;31mKeyboardInterrupt\u001b[0m: ",
      "\nDuring handling of the above exception, another exception occurred:\n",
      "\u001b[0;31mKeyboardInterrupt\u001b[0m                         Traceback (most recent call last)",
      "\u001b[0;32m<ipython-input-18-d2ce3b2673a0>\u001b[0m in \u001b[0;36m<module>\u001b[0;34m\u001b[0m\n\u001b[1;32m     40\u001b[0m \u001b[0;34m\u001b[0m\u001b[0m\n\u001b[1;32m     41\u001b[0m \u001b[0;32mif\u001b[0m \u001b[0m__name__\u001b[0m \u001b[0;34m==\u001b[0m \u001b[0;34m'__main__'\u001b[0m\u001b[0;34m:\u001b[0m\u001b[0;34m\u001b[0m\u001b[0;34m\u001b[0m\u001b[0m\n\u001b[0;32m---> 42\u001b[0;31m     \u001b[0mmain\u001b[0m\u001b[0;34m(\u001b[0m\u001b[0;34m)\u001b[0m\u001b[0;34m\u001b[0m\u001b[0;34m\u001b[0m\u001b[0m\n\u001b[0m",
      "\u001b[0;32m<ipython-input-18-d2ce3b2673a0>\u001b[0m in \u001b[0;36mmain\u001b[0;34m()\u001b[0m\n\u001b[1;32m     25\u001b[0m         \u001b[0mprint_board\u001b[0m\u001b[0;34m(\u001b[0m\u001b[0mcurr_board\u001b[0m\u001b[0;34m)\u001b[0m\u001b[0;34m\u001b[0m\u001b[0;34m\u001b[0m\u001b[0m\n\u001b[1;32m     26\u001b[0m         \u001b[0;32mwhile\u001b[0m \u001b[0mcounter\u001b[0m \u001b[0;34m<\u001b[0m \u001b[0;36m9\u001b[0m\u001b[0;34m:\u001b[0m\u001b[0;34m\u001b[0m\u001b[0;34m\u001b[0m\u001b[0m\n\u001b[0;32m---> 27\u001b[0;31m             \u001b[0mmove\u001b[0m \u001b[0;34m=\u001b[0m \u001b[0minput\u001b[0m\u001b[0;34m(\u001b[0m\u001b[0;34m'輪到%s走棋, 請輸入位置: '\u001b[0m \u001b[0;34m%\u001b[0m \u001b[0mturn\u001b[0m\u001b[0;34m)\u001b[0m\u001b[0;34m\u001b[0m\u001b[0;34m\u001b[0m\u001b[0m\n\u001b[0m\u001b[1;32m     28\u001b[0m             \u001b[0;32mif\u001b[0m \u001b[0mcurr_board\u001b[0m\u001b[0;34m[\u001b[0m\u001b[0mmove\u001b[0m\u001b[0;34m]\u001b[0m \u001b[0;34m==\u001b[0m \u001b[0;34m' '\u001b[0m\u001b[0;34m:\u001b[0m\u001b[0;34m\u001b[0m\u001b[0;34m\u001b[0m\u001b[0m\n\u001b[1;32m     29\u001b[0m                 \u001b[0mcounter\u001b[0m \u001b[0;34m+=\u001b[0m \u001b[0;36m1\u001b[0m\u001b[0;34m\u001b[0m\u001b[0;34m\u001b[0m\u001b[0m\n",
      "\u001b[0;32m~/opt/anaconda3/lib/python3.7/site-packages/ipykernel/kernelbase.py\u001b[0m in \u001b[0;36mraw_input\u001b[0;34m(self, prompt)\u001b[0m\n\u001b[1;32m    858\u001b[0m             \u001b[0mself\u001b[0m\u001b[0;34m.\u001b[0m\u001b[0m_parent_ident\u001b[0m\u001b[0;34m,\u001b[0m\u001b[0;34m\u001b[0m\u001b[0;34m\u001b[0m\u001b[0m\n\u001b[1;32m    859\u001b[0m             \u001b[0mself\u001b[0m\u001b[0;34m.\u001b[0m\u001b[0m_parent_header\u001b[0m\u001b[0;34m,\u001b[0m\u001b[0;34m\u001b[0m\u001b[0;34m\u001b[0m\u001b[0m\n\u001b[0;32m--> 860\u001b[0;31m             \u001b[0mpassword\u001b[0m\u001b[0;34m=\u001b[0m\u001b[0;32mFalse\u001b[0m\u001b[0;34m,\u001b[0m\u001b[0;34m\u001b[0m\u001b[0;34m\u001b[0m\u001b[0m\n\u001b[0m\u001b[1;32m    861\u001b[0m         )\n\u001b[1;32m    862\u001b[0m \u001b[0;34m\u001b[0m\u001b[0m\n",
      "\u001b[0;32m~/opt/anaconda3/lib/python3.7/site-packages/ipykernel/kernelbase.py\u001b[0m in \u001b[0;36m_input_request\u001b[0;34m(self, prompt, ident, parent, password)\u001b[0m\n\u001b[1;32m    888\u001b[0m             \u001b[0;32mexcept\u001b[0m \u001b[0mKeyboardInterrupt\u001b[0m\u001b[0;34m:\u001b[0m\u001b[0;34m\u001b[0m\u001b[0;34m\u001b[0m\u001b[0m\n\u001b[1;32m    889\u001b[0m                 \u001b[0;31m# re-raise KeyboardInterrupt, to truncate traceback\u001b[0m\u001b[0;34m\u001b[0m\u001b[0;34m\u001b[0m\u001b[0;34m\u001b[0m\u001b[0m\n\u001b[0;32m--> 890\u001b[0;31m                 \u001b[0;32mraise\u001b[0m \u001b[0mKeyboardInterrupt\u001b[0m\u001b[0;34m\u001b[0m\u001b[0;34m\u001b[0m\u001b[0m\n\u001b[0m\u001b[1;32m    891\u001b[0m             \u001b[0;32melse\u001b[0m\u001b[0;34m:\u001b[0m\u001b[0;34m\u001b[0m\u001b[0;34m\u001b[0m\u001b[0m\n\u001b[1;32m    892\u001b[0m                 \u001b[0;32mbreak\u001b[0m\u001b[0;34m\u001b[0m\u001b[0;34m\u001b[0m\u001b[0m\n",
      "\u001b[0;31mKeyboardInterrupt\u001b[0m: "
     ]
    }
   ],
   "source": [
    "import os\n",
    "\n",
    "\n",
    "def print_board(board):\n",
    "    print(board['TL'] + '|' + board['TM'] + '|' + board['TR'])\n",
    "    print('-+-+-')\n",
    "    print(board['ML'] + '|' + board['MM'] + '|' + board['MR'])\n",
    "    print('-+-+-')\n",
    "    print(board['BL'] + '|' + board['BM'] + '|' + board['BR'])\n",
    "\n",
    "\n",
    "def main():\n",
    "    init_board = {\n",
    "        'TL': ' ', 'TM': ' ', 'TR': ' ',\n",
    "        'ML': ' ', 'MM': ' ', 'MR': ' ',\n",
    "        'BL': ' ', 'BM': ' ', 'BR': ' '\n",
    "    }\n",
    "    begin = True\n",
    "    while begin:\n",
    "        curr_board = init_board.copy()\n",
    "        begin = False\n",
    "        turn = 'x'\n",
    "        counter = 0\n",
    "        os.system('clear')\n",
    "        print_board(curr_board)\n",
    "        while counter < 9:\n",
    "            move = input('輪到%s走棋, 請輸入位置: ' % turn)\n",
    "            if curr_board[move] == ' ':\n",
    "                counter += 1\n",
    "                curr_board[move] = turn\n",
    "                if turn == 'x':\n",
    "                    turn = 'o'\n",
    "                else:\n",
    "                    turn = 'x'\n",
    "            os.system('clear')\n",
    "            print_board(curr_board)\n",
    "        choice = input('再玩一局?(yes|no)')\n",
    "        begin = choice == 'yes'\n",
    "\n",
    "\n",
    "if __name__ == '__main__':\n",
    "    main()"
   ]
  }
 ],
 "metadata": {
  "kernelspec": {
   "display_name": "Python 3",
   "language": "python",
   "name": "python3"
  },
  "language_info": {
   "codemirror_mode": {
    "name": "ipython",
    "version": 3
   },
   "file_extension": ".py",
   "mimetype": "text/x-python",
   "name": "python",
   "nbconvert_exporter": "python",
   "pygments_lexer": "ipython3",
   "version": "3.7.4"
  }
 },
 "nbformat": 4,
 "nbformat_minor": 2
}
