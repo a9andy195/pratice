{
 "cells": [
  {
   "cell_type": "code",
   "execution_count": 1,
   "metadata": {},
   "outputs": [],
   "source": [
    "import tkinter\n",
    "import tkinter.messagebox\n",
    "\n",
    "\n",
    "def main():\n",
    "    flag = True\n",
    "\n",
    "    # 修改標籤上的文字\n",
    "    def change_label_text():\n",
    "        nonlocal flag\n",
    "        flag = not flag\n",
    "        color, msg = ('red', 'Hello, world!')\\\n",
    "            if flag else ('blue', 'Goodbye, world!')\n",
    "        label.config(text=msg, fg=color)\n",
    "\n",
    "    # 確認退出\n",
    "    def confirm_to_quit():\n",
    "        if tkinter.messagebox.askokcancel('溫馨提示', '確定要退出嗎?'):\n",
    "            top.quit()\n",
    "\n",
    "    # 創建頂層窗口\n",
    "    top = tkinter.Tk()\n",
    "    # 設置窗口大小\n",
    "    top.geometry('240x160')\n",
    "    # 設置窗口標題\n",
    "    top.title('小遊戲')\n",
    "    # 創建標籤對象並添加到頂層窗口\n",
    "    label = tkinter.Label(top, text='Hello, world!', font='Arial -32', fg='red')\n",
    "    label.pack(expand=1)\n",
    "    # 創建一個裝按鈕的容器\n",
    "    panel = tkinter.Frame(top)\n",
    "    # 創建按鈕對象 指定添加到哪個容器中 通過command參數綁定事件回調函數\n",
    "    button1 = tkinter.Button(panel, text='修改', command=change_label_text)\n",
    "    button1.pack(side='left')\n",
    "    button2 = tkinter.Button(panel, text='退出', command=confirm_to_quit)\n",
    "    button2.pack(side='right')\n",
    "    panel.pack(side='bottom')\n",
    "    # 開啟主事件循環\n",
    "    tkinter.mainloop()\n",
    "\n",
    "\n",
    "if __name__ == '__main__':\n",
    "    main()`"
   ]
  },
  {
   "cell_type": "code",
   "execution_count": 3,
   "metadata": {},
   "outputs": [
    {
     "ename": "ModuleNotFoundError",
     "evalue": "No module named 'pygame'",
     "output_type": "error",
     "traceback": [
      "\u001b[0;31m---------------------------------------------------------------------------\u001b[0m",
      "\u001b[0;31mModuleNotFoundError\u001b[0m                       Traceback (most recent call last)",
      "\u001b[0;32m<ipython-input-3-671b35b41eba>\u001b[0m in \u001b[0;36m<module>\u001b[0;34m\u001b[0m\n\u001b[0;32m----> 1\u001b[0;31m \u001b[0;32mimport\u001b[0m \u001b[0mpygame\u001b[0m\u001b[0;34m\u001b[0m\u001b[0;34m\u001b[0m\u001b[0m\n\u001b[0m",
      "\u001b[0;31mModuleNotFoundError\u001b[0m: No module named 'pygame'"
     ]
    }
   ],
   "source": [
    "import pygame"
   ]
  },
  {
   "cell_type": "code",
   "execution_count": 2,
   "metadata": {},
   "outputs": [
    {
     "ename": "ModuleNotFoundError",
     "evalue": "No module named 'pygame'",
     "output_type": "error",
     "traceback": [
      "\u001b[0;31m---------------------------------------------------------------------------\u001b[0m",
      "\u001b[0;31mModuleNotFoundError\u001b[0m                       Traceback (most recent call last)",
      "\u001b[0;32m<ipython-input-2-41eef9858f50>\u001b[0m in \u001b[0;36m<module>\u001b[0;34m\u001b[0m\n\u001b[1;32m      1\u001b[0m \u001b[0;32mimport\u001b[0m \u001b[0mtkinter\u001b[0m\u001b[0;34m\u001b[0m\u001b[0;34m\u001b[0m\u001b[0m\n\u001b[1;32m      2\u001b[0m \u001b[0;32mimport\u001b[0m \u001b[0mtkinter\u001b[0m\u001b[0;34m.\u001b[0m\u001b[0mmessagebox\u001b[0m\u001b[0;34m\u001b[0m\u001b[0;34m\u001b[0m\u001b[0m\n\u001b[0;32m----> 3\u001b[0;31m \u001b[0;32mimport\u001b[0m \u001b[0mpygame\u001b[0m\u001b[0;34m\u001b[0m\u001b[0;34m\u001b[0m\u001b[0m\n\u001b[0m\u001b[1;32m      4\u001b[0m \u001b[0;34m\u001b[0m\u001b[0m\n\u001b[1;32m      5\u001b[0m \u001b[0;34m\u001b[0m\u001b[0m\n",
      "\u001b[0;31mModuleNotFoundError\u001b[0m: No module named 'pygame'"
     ]
    }
   ],
   "source": [
    "import tkinter\n",
    "import tkinter.messagebox\n",
    "import pygame\n",
    "\n",
    "\n",
    "def main():\n",
    "    # 初始化導入的pygame中的模塊\n",
    "    pygame.init()\n",
    "    # 初始化用於顯示的窗口並設置窗口尺寸\n",
    "    screen = pygame.display.set_mode((800, 600))\n",
    "    # 設置當前窗口的標題\n",
    "    pygame.display.set_caption('大球吃小球')\n",
    "    running = True\n",
    "    # 開啟一個事件循環處理髮生的事件\n",
    "    while running:\n",
    "        # 從消息隊列中獲取事件並對事件進行處理\n",
    "        for event in pygame.event.get():\n",
    "            if event.type == pygame.QUIT:\n",
    "                running = False\n",
    "\n",
    "\n",
    "if __name__ == '__main__':\n",
    "    main()"
   ]
  }
 ],
 "metadata": {
  "kernelspec": {
   "display_name": "Python 3",
   "language": "python",
   "name": "python3"
  },
  "language_info": {
   "codemirror_mode": {
    "name": "ipython",
    "version": 3
   },
   "file_extension": ".py",
   "mimetype": "text/x-python",
   "name": "python",
   "nbconvert_exporter": "python",
   "pygments_lexer": "ipython3",
   "version": "3.7.4"
  }
 },
 "nbformat": 4,
 "nbformat_minor": 2
}
