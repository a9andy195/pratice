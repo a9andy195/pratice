{
 "cells": [
  {
   "cell_type": "code",
   "execution_count": 10,
   "metadata": {},
   "outputs": [
    {
     "name": "stdout",
     "output_type": "stream",
     "text": [
      "2500\n"
     ]
    }
   ],
   "source": [
    "\"\"\"\n",
    "用for循環實現1~100求和\n",
    "\n",
    "Version: 0.1\n",
    "Author: 駱昊\n",
    "\"\"\"\n",
    "\n",
    "sum = 0\n",
    "for x in range(1,100,2):\n",
    "    sum += x\n",
    "print(sum)\n"
   ]
  },
  {
   "cell_type": "code",
   "execution_count": 11,
   "metadata": {},
   "outputs": [
    {
     "name": "stdout",
     "output_type": "stream",
     "text": [
      "2550\n"
     ]
    }
   ],
   "source": [
    "\"\"\"\n",
    "用for循環實現1~100之間的偶數求和\n",
    "\n",
    "Version: 0.1\n",
    "Author: 駱昊\n",
    "\"\"\"\n",
    "\n",
    "sum = 0\n",
    "for x in range(2, 101, 2):\n",
    "    sum += x\n",
    "print(sum)"
   ]
  },
  {
   "cell_type": "code",
   "execution_count": 17,
   "metadata": {},
   "outputs": [
    {
     "name": "stdout",
     "output_type": "stream",
     "text": [
      "2550\n",
      "550\n"
     ]
    }
   ],
   "source": [
    "\"\"\"\n",
    "用for循環實現1~100之間的偶數求和\n",
    "\n",
    "Version: 0.1\n",
    "Author: 駱昊\n",
    "\"\"\"\n",
    "sum = 0\n",
    "for x in range(1, 101):\n",
    "    if x % 2 == 0:\n",
    "        sum += x\n",
    "print(sum)\n",
    "\n",
    "sum = 0\n",
    "for x in range(1, 101):\n",
    "    if x % 10 == 0:\n",
    "        sum += x\n",
    "print(sum)"
   ]
  },
  {
   "cell_type": "code",
   "execution_count": 18,
   "metadata": {},
   "outputs": [
    {
     "name": "stdout",
     "output_type": "stream",
     "text": [
      "請輸入: 50\n",
      "大一點\n",
      "請輸入: 75\n",
      "小一點\n",
      "請輸入: 63\n",
      "大一點\n",
      "請輸入: 69\n",
      "小一點\n",
      "請輸入: 66\n",
      "大一點\n",
      "請輸入: 68\n",
      "恭喜你猜對了!\n",
      "你總共猜了6次\n"
     ]
    }
   ],
   "source": [
    "\"\"\"\n",
    "猜數字遊戲\n",
    "計算機出一個1~100之間的隨機數由人來猜\n",
    "計算機根據人猜的數字分別給出提示大一點/小一點/猜對了\n",
    "\n",
    "Version: 0.1\n",
    "Author: 駱昊\n",
    "\"\"\"\n",
    "\n",
    "import random\n",
    "\n",
    "answer = random.randint(1, 100)\n",
    "counter = 0\n",
    "while True:\n",
    "    counter += 1\n",
    "    number = int(input('請輸入: '))\n",
    "    if number < answer:\n",
    "        print('大一點')\n",
    "    elif number > answer:\n",
    "        print('小一點')\n",
    "    else:\n",
    "        print('恭喜你猜對了!')\n",
    "        break\n",
    "print('你總共猜了%d次' % counter)\n",
    "if counter > 7:\n",
    "    print('你的智商餘額明顯不足')"
   ]
  },
  {
   "cell_type": "code",
   "execution_count": 34,
   "metadata": {},
   "outputs": [
    {
     "name": "stdout",
     "output_type": "stream",
     "text": [
      "1*1=1\t\n",
      "2*1=2\t2*2=4\t\n",
      "3*1=3\t3*2=6\t3*3=9\t\n",
      "4*1=4\t4*2=8\t4*3=12\t4*4=16\t\n",
      "5*1=5\t5*2=10\t5*3=15\t5*4=20\t5*5=25\t\n",
      "6*1=6\t6*2=12\t6*3=18\t6*4=24\t6*5=30\t6*6=36\t\n",
      "7*1=7\t7*2=14\t7*3=21\t7*4=28\t7*5=35\t7*6=42\t7*7=49\t\n",
      "8*1=8\t8*2=16\t8*3=24\t8*4=32\t8*5=40\t8*6=48\t8*7=56\t8*8=64\t\n"
     ]
    }
   ],
   "source": [
    "for i in range(1, 9):\n",
    "    for j in range(1, i + 1):\n",
    "        print('%d*%d=%d' % (i, j, i * j), end='\\t')\n",
    "    print()"
   ]
  },
  {
   "cell_type": "code",
   "execution_count": 53,
   "metadata": {},
   "outputs": [
    {
     "name": "stdout",
     "output_type": "stream",
     "text": [
      "1*1=1\t\n",
      "2*1=2\t2*2=4\t\n",
      "3*1=3\t3*2=6\t3*3=9\t\n",
      "4*1=4\t4*2=8\t4*3=12\t4*4=16\t\n",
      "5*1=5\t5*2=10\t5*3=15\t5*4=20\t5*5=25\t\n",
      "6*1=6\t6*2=12\t6*3=18\t6*4=24\t6*5=30\t6*6=36\t\n",
      "7*1=7\t7*2=14\t7*3=21\t7*4=28\t7*5=35\t7*6=42\t7*7=49\t\n",
      "8*1=8\t8*2=16\t8*3=24\t8*4=32\t8*5=40\t8*6=48\t8*7=56\t8*8=64\t\n"
     ]
    }
   ],
   "source": [
    "for i in range(1,9):\n",
    "    for j in range(1,i+1):\n",
    "        print('%d*%d=%d' % (i,j,i*j) ,end='\\t')\n",
    "    print()"
   ]
  },
  {
   "cell_type": "code",
   "execution_count": 61,
   "metadata": {},
   "outputs": [
    {
     "name": "stdout",
     "output_type": "stream",
     "text": [
      "請輸入一個正整數: 97\n",
      "97是素數\n"
     ]
    }
   ],
   "source": [
    "\"\"\"\n",
    "輸入一個正整數判斷它是不是素數\n",
    "\n",
    "Version: 0.1\n",
    "Author: 駱昊\n",
    "Date: 2018-03-01\n",
    "\"\"\"\n",
    "from math import sqrt\n",
    "#sqrt x除以 \n",
    "num = int(input('請輸入一個正整數: '))\n",
    "end = int(sqrt(num))\n",
    "is_prime = True\n",
    "for x in range(2, end + 1):\n",
    "    if num % x == 0:\n",
    "        is_prime = False\n",
    "        break\n",
    "if is_prime and num != 1:\n",
    "    print('%d是素數' % num)\n",
    "else:\n",
    "    print('%d不是素數' % num)"
   ]
  },
  {
   "cell_type": "code",
   "execution_count": 66,
   "metadata": {},
   "outputs": [
    {
     "name": "stdout",
     "output_type": "stream",
     "text": [
      "x = 8\n",
      "y = 12\n",
      "8和12的最大公因數是4\n",
      "8和12的最小公倍數是24\n"
     ]
    }
   ],
   "source": [
    "\"\"\"\n",
    "輸入兩個正整數計算最大公約數和最小公倍數\n",
    "\n",
    "Version: 0.1\n",
    "Author: 駱昊\n",
    "Date: 2018-03-01\n",
    "\"\"\"\n",
    "\n",
    "x = int(input('x = '))\n",
    "y = int(input('y = '))\n",
    "if x > y:\n",
    "    x, y = y, x\n",
    "for factor in range(x, 0, -1):\n",
    "    if x % factor == 0 and y % factor == 0:\n",
    "        print('%d和%d的最大公因數是%d' % (x, y, factor))\n",
    "        print('%d和%d的最小公倍數是%d' % (x, y, x * y // factor))\n",
    "        break"
   ]
  },
  {
   "cell_type": "code",
   "execution_count": 76,
   "metadata": {},
   "outputs": [
    {
     "name": "stdout",
     "output_type": "stream",
     "text": [
      "請輸入行數: 4\n",
      "*\n",
      "**\n",
      "***\n",
      "****\n"
     ]
    }
   ],
   "source": [
    "row = int(input('請輸入行數: '))\n",
    "for i in range(row):\n",
    "    for j in range(i + 1):\n",
    "        print('*', end='')\n",
    "    print()"
   ]
  },
  {
   "cell_type": "code",
   "execution_count": 2,
   "metadata": {},
   "outputs": [
    {
     "name": "stdout",
     "output_type": "stream",
     "text": [
      "請輸入行數: 3\n",
      "  *\n",
      " **\n",
      "***\n"
     ]
    }
   ],
   "source": [
    "row = int(input('請輸入行數: '))\n",
    "for i in range(row):\n",
    "    for j in range(row):\n",
    "        if j < row - i - 1:\n",
    "            print(' ', end='')\n",
    "        else:\n",
    "            print('*', end='')\n",
    "    print()"
   ]
  },
  {
   "cell_type": "code",
   "execution_count": 78,
   "metadata": {},
   "outputs": [
    {
     "name": "stdout",
     "output_type": "stream",
     "text": [
      "0\n",
      "1\n"
     ]
    }
   ],
   "source": [
    "for i in range(2):\n",
    "    print(i)"
   ]
  },
  {
   "cell_type": "code",
   "execution_count": 3,
   "metadata": {},
   "outputs": [
    {
     "name": "stdout",
     "output_type": "stream",
     "text": [
      "請輸入行數: 3\n",
      "  *\n",
      " ***\n",
      "*****\n"
     ]
    }
   ],
   "source": [
    "row = int(input('請輸入行數: '))\n",
    "for i in range(row):\n",
    "    for j in range(row - i - 1):\n",
    "        print(' ', end='')\n",
    "    for k in range(2 * i + 1):\n",
    "        print('*', end='')\n",
    "    print()"
   ]
  }
 ],
 "metadata": {
  "kernelspec": {
   "display_name": "Python 3",
   "language": "python",
   "name": "python3"
  },
  "language_info": {
   "codemirror_mode": {
    "name": "ipython",
    "version": 3
   },
   "file_extension": ".py",
   "mimetype": "text/x-python",
   "name": "python",
   "nbconvert_exporter": "python",
   "pygments_lexer": "ipython3",
   "version": "3.7.4"
  }
 },
 "nbformat": 4,
 "nbformat_minor": 2
}
